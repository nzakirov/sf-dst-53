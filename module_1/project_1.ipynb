{
 "cells": [
  {
   "cell_type": "markdown",
   "metadata": {},
   "source": [
    "**Проект 1. Кто хочет стать миллионером кинопроката?**  \n",
    "    *выполнил: Закиров Наиль (DST-53)*  \n",
    "    *2021-03-07*  \n"
   ]
  },
  {
   "cell_type": "code",
   "execution_count": 1,
   "metadata": {
    "_cell_guid": "b1076dfc-b9ad-4769-8c92-a6c4dae69d19",
    "_uuid": "8f2839f25d086af736a60e9eeb907d3b93b6e0e5",
    "colab": {},
    "colab_type": "code",
    "id": "U2D2gTdJVp90"
   },
   "outputs": [],
   "source": [
    "import numpy as np\n",
    "import pandas as pd\n",
    "import seaborn as sns\n",
    "import matplotlib.pyplot as plt\n",
    "from collections import Counter"
   ]
  },
  {
   "cell_type": "code",
   "execution_count": 2,
   "metadata": {
    "_cell_guid": "79c7e3d0-c299-4dcb-8224-4455121ee9b0",
    "_uuid": "d629ff2d2480ee46fbb7e2d37f6b5fab8052498a",
    "colab": {},
    "colab_type": "code",
    "id": "oyGfxL3eVp9-"
   },
   "outputs": [
    {
     "data": {
      "text/html": [
       "<div>\n",
       "<style scoped>\n",
       "    .dataframe tbody tr th:only-of-type {\n",
       "        vertical-align: middle;\n",
       "    }\n",
       "\n",
       "    .dataframe tbody tr th {\n",
       "        vertical-align: top;\n",
       "    }\n",
       "\n",
       "    .dataframe thead th {\n",
       "        text-align: right;\n",
       "    }\n",
       "</style>\n",
       "<table border=\"1\" class=\"dataframe\">\n",
       "  <thead>\n",
       "    <tr style=\"text-align: right;\">\n",
       "      <th></th>\n",
       "      <th>imdb_id</th>\n",
       "      <th>budget</th>\n",
       "      <th>revenue</th>\n",
       "      <th>original_title</th>\n",
       "      <th>cast</th>\n",
       "      <th>director</th>\n",
       "      <th>tagline</th>\n",
       "      <th>overview</th>\n",
       "      <th>runtime</th>\n",
       "      <th>genres</th>\n",
       "      <th>production_companies</th>\n",
       "      <th>release_date</th>\n",
       "      <th>vote_average</th>\n",
       "      <th>release_year</th>\n",
       "    </tr>\n",
       "  </thead>\n",
       "  <tbody>\n",
       "    <tr>\n",
       "      <td>504</td>\n",
       "      <td>tt0213149</td>\n",
       "      <td>140000000</td>\n",
       "      <td>449220945</td>\n",
       "      <td>Pearl Harbor</td>\n",
       "      <td>Ben Affleck|Josh Hartnett|Kate Beckinsale|Cuba...</td>\n",
       "      <td>Michael Bay</td>\n",
       "      <td>December 7, 1941 - A day that shall live in in...</td>\n",
       "      <td>The lifelong friendship between Rafe McCawley ...</td>\n",
       "      <td>183</td>\n",
       "      <td>History|Romance|War</td>\n",
       "      <td>Jerry Bruckheimer Films|Touchstone Pictures</td>\n",
       "      <td>5/21/2001</td>\n",
       "      <td>6.6</td>\n",
       "      <td>2001</td>\n",
       "    </tr>\n",
       "    <tr>\n",
       "      <td>1187</td>\n",
       "      <td>tt0770828</td>\n",
       "      <td>225000000</td>\n",
       "      <td>662845518</td>\n",
       "      <td>Man of Steel</td>\n",
       "      <td>Henry Cavill|Amy Adams|Michael Shannon|Diane L...</td>\n",
       "      <td>Zack Snyder</td>\n",
       "      <td>You will believe that a man can fly.</td>\n",
       "      <td>A young boy learns that he has extraordinary p...</td>\n",
       "      <td>143</td>\n",
       "      <td>Action|Adventure|Fantasy|Science Fiction</td>\n",
       "      <td>Legendary Pictures|Warner Bros.|DC Entertainme...</td>\n",
       "      <td>6/12/2013</td>\n",
       "      <td>6.5</td>\n",
       "      <td>2013</td>\n",
       "    </tr>\n",
       "    <tr>\n",
       "      <td>169</td>\n",
       "      <td>tt2937898</td>\n",
       "      <td>20000000</td>\n",
       "      <td>12007070</td>\n",
       "      <td>A Most Violent Year</td>\n",
       "      <td>Oscar Isaac|Jessica Chastain|Albert Brooks|Ely...</td>\n",
       "      <td>J.C. Chandor</td>\n",
       "      <td>The result is never in question. Just the path...</td>\n",
       "      <td>A thriller set in New York City during the win...</td>\n",
       "      <td>125</td>\n",
       "      <td>Action|Thriller|Crime|Drama</td>\n",
       "      <td>Participant Media|Imagenation Abu Dhabi FZ|Fil...</td>\n",
       "      <td>12/30/2014</td>\n",
       "      <td>6.4</td>\n",
       "      <td>2014</td>\n",
       "    </tr>\n",
       "    <tr>\n",
       "      <td>1792</td>\n",
       "      <td>tt0455760</td>\n",
       "      <td>20000000</td>\n",
       "      <td>22217407</td>\n",
       "      <td>Dead Silence</td>\n",
       "      <td>Ryan Kwanten|Donnie Wahlberg|Bob Gunton|Amber ...</td>\n",
       "      <td>James Wan</td>\n",
       "      <td>You scream. You die.</td>\n",
       "      <td>Jamie returns to his hometown in search of ans...</td>\n",
       "      <td>89</td>\n",
       "      <td>Horror</td>\n",
       "      <td>Universal Pictures|Twisted Pictures|Evolution ...</td>\n",
       "      <td>3/16/2007</td>\n",
       "      <td>6.2</td>\n",
       "      <td>2007</td>\n",
       "    </tr>\n",
       "    <tr>\n",
       "      <td>1048</td>\n",
       "      <td>tt1433811</td>\n",
       "      <td>10000000</td>\n",
       "      <td>3428048</td>\n",
       "      <td>Disconnect</td>\n",
       "      <td>Jason Bateman|Hope Davis|Frank Grillo|Paula Pa...</td>\n",
       "      <td>Henry Alex Rubin</td>\n",
       "      <td>Look up.</td>\n",
       "      <td>Disconnect interweaves multiple storylines abo...</td>\n",
       "      <td>115</td>\n",
       "      <td>Drama|Thriller</td>\n",
       "      <td>Lionsgate|Liddell Entertainment|LD Entertainme...</td>\n",
       "      <td>9/11/2012</td>\n",
       "      <td>6.7</td>\n",
       "      <td>2012</td>\n",
       "    </tr>\n",
       "  </tbody>\n",
       "</table>\n",
       "</div>"
      ],
      "text/plain": [
       "        imdb_id     budget    revenue       original_title  \\\n",
       "504   tt0213149  140000000  449220945         Pearl Harbor   \n",
       "1187  tt0770828  225000000  662845518         Man of Steel   \n",
       "169   tt2937898   20000000   12007070  A Most Violent Year   \n",
       "1792  tt0455760   20000000   22217407         Dead Silence   \n",
       "1048  tt1433811   10000000    3428048           Disconnect   \n",
       "\n",
       "                                                   cast          director  \\\n",
       "504   Ben Affleck|Josh Hartnett|Kate Beckinsale|Cuba...       Michael Bay   \n",
       "1187  Henry Cavill|Amy Adams|Michael Shannon|Diane L...       Zack Snyder   \n",
       "169   Oscar Isaac|Jessica Chastain|Albert Brooks|Ely...      J.C. Chandor   \n",
       "1792  Ryan Kwanten|Donnie Wahlberg|Bob Gunton|Amber ...         James Wan   \n",
       "1048  Jason Bateman|Hope Davis|Frank Grillo|Paula Pa...  Henry Alex Rubin   \n",
       "\n",
       "                                                tagline  \\\n",
       "504   December 7, 1941 - A day that shall live in in...   \n",
       "1187               You will believe that a man can fly.   \n",
       "169   The result is never in question. Just the path...   \n",
       "1792                               You scream. You die.   \n",
       "1048                                           Look up.   \n",
       "\n",
       "                                               overview  runtime  \\\n",
       "504   The lifelong friendship between Rafe McCawley ...      183   \n",
       "1187  A young boy learns that he has extraordinary p...      143   \n",
       "169   A thriller set in New York City during the win...      125   \n",
       "1792  Jamie returns to his hometown in search of ans...       89   \n",
       "1048  Disconnect interweaves multiple storylines abo...      115   \n",
       "\n",
       "                                        genres  \\\n",
       "504                        History|Romance|War   \n",
       "1187  Action|Adventure|Fantasy|Science Fiction   \n",
       "169                Action|Thriller|Crime|Drama   \n",
       "1792                                    Horror   \n",
       "1048                            Drama|Thriller   \n",
       "\n",
       "                                   production_companies release_date  \\\n",
       "504         Jerry Bruckheimer Films|Touchstone Pictures    5/21/2001   \n",
       "1187  Legendary Pictures|Warner Bros.|DC Entertainme...    6/12/2013   \n",
       "169   Participant Media|Imagenation Abu Dhabi FZ|Fil...   12/30/2014   \n",
       "1792  Universal Pictures|Twisted Pictures|Evolution ...    3/16/2007   \n",
       "1048  Lionsgate|Liddell Entertainment|LD Entertainme...    9/11/2012   \n",
       "\n",
       "      vote_average  release_year  \n",
       "504            6.6          2001  \n",
       "1187           6.5          2013  \n",
       "169            6.4          2014  \n",
       "1792           6.2          2007  \n",
       "1048           6.7          2012  "
      ]
     },
     "execution_count": 2,
     "metadata": {},
     "output_type": "execute_result"
    }
   ],
   "source": [
    "data = pd.read_csv('movie_bd_v5.csv')\n",
    "data.sample(5)"
   ]
  },
  {
   "cell_type": "code",
   "execution_count": 3,
   "metadata": {
    "colab": {},
    "colab_type": "code",
    "id": "CoYUnagMVp-C"
   },
   "outputs": [
    {
     "data": {
      "text/html": [
       "<div>\n",
       "<style scoped>\n",
       "    .dataframe tbody tr th:only-of-type {\n",
       "        vertical-align: middle;\n",
       "    }\n",
       "\n",
       "    .dataframe tbody tr th {\n",
       "        vertical-align: top;\n",
       "    }\n",
       "\n",
       "    .dataframe thead th {\n",
       "        text-align: right;\n",
       "    }\n",
       "</style>\n",
       "<table border=\"1\" class=\"dataframe\">\n",
       "  <thead>\n",
       "    <tr style=\"text-align: right;\">\n",
       "      <th></th>\n",
       "      <th>budget</th>\n",
       "      <th>revenue</th>\n",
       "      <th>runtime</th>\n",
       "      <th>vote_average</th>\n",
       "      <th>release_year</th>\n",
       "    </tr>\n",
       "  </thead>\n",
       "  <tbody>\n",
       "    <tr>\n",
       "      <td>count</td>\n",
       "      <td>1.889000e+03</td>\n",
       "      <td>1.889000e+03</td>\n",
       "      <td>1889.000000</td>\n",
       "      <td>1889.000000</td>\n",
       "      <td>1889.000000</td>\n",
       "    </tr>\n",
       "    <tr>\n",
       "      <td>mean</td>\n",
       "      <td>5.431083e+07</td>\n",
       "      <td>1.553653e+08</td>\n",
       "      <td>109.658549</td>\n",
       "      <td>6.140762</td>\n",
       "      <td>2007.860773</td>\n",
       "    </tr>\n",
       "    <tr>\n",
       "      <td>std</td>\n",
       "      <td>4.858721e+07</td>\n",
       "      <td>2.146698e+08</td>\n",
       "      <td>18.017041</td>\n",
       "      <td>0.764763</td>\n",
       "      <td>4.468841</td>\n",
       "    </tr>\n",
       "    <tr>\n",
       "      <td>min</td>\n",
       "      <td>5.000000e+06</td>\n",
       "      <td>2.033165e+06</td>\n",
       "      <td>63.000000</td>\n",
       "      <td>3.300000</td>\n",
       "      <td>2000.000000</td>\n",
       "    </tr>\n",
       "    <tr>\n",
       "      <td>25%</td>\n",
       "      <td>2.000000e+07</td>\n",
       "      <td>3.456058e+07</td>\n",
       "      <td>97.000000</td>\n",
       "      <td>5.600000</td>\n",
       "      <td>2004.000000</td>\n",
       "    </tr>\n",
       "    <tr>\n",
       "      <td>50%</td>\n",
       "      <td>3.800000e+07</td>\n",
       "      <td>8.361541e+07</td>\n",
       "      <td>107.000000</td>\n",
       "      <td>6.100000</td>\n",
       "      <td>2008.000000</td>\n",
       "    </tr>\n",
       "    <tr>\n",
       "      <td>75%</td>\n",
       "      <td>7.200000e+07</td>\n",
       "      <td>1.782626e+08</td>\n",
       "      <td>120.000000</td>\n",
       "      <td>6.600000</td>\n",
       "      <td>2012.000000</td>\n",
       "    </tr>\n",
       "    <tr>\n",
       "      <td>max</td>\n",
       "      <td>3.800000e+08</td>\n",
       "      <td>2.781506e+09</td>\n",
       "      <td>214.000000</td>\n",
       "      <td>8.100000</td>\n",
       "      <td>2015.000000</td>\n",
       "    </tr>\n",
       "  </tbody>\n",
       "</table>\n",
       "</div>"
      ],
      "text/plain": [
       "             budget       revenue      runtime  vote_average  release_year\n",
       "count  1.889000e+03  1.889000e+03  1889.000000   1889.000000   1889.000000\n",
       "mean   5.431083e+07  1.553653e+08   109.658549      6.140762   2007.860773\n",
       "std    4.858721e+07  2.146698e+08    18.017041      0.764763      4.468841\n",
       "min    5.000000e+06  2.033165e+06    63.000000      3.300000   2000.000000\n",
       "25%    2.000000e+07  3.456058e+07    97.000000      5.600000   2004.000000\n",
       "50%    3.800000e+07  8.361541e+07   107.000000      6.100000   2008.000000\n",
       "75%    7.200000e+07  1.782626e+08   120.000000      6.600000   2012.000000\n",
       "max    3.800000e+08  2.781506e+09   214.000000      8.100000   2015.000000"
      ]
     },
     "execution_count": 3,
     "metadata": {},
     "output_type": "execute_result"
    }
   ],
   "source": [
    "data.describe()"
   ]
  },
  {
   "cell_type": "code",
   "execution_count": 4,
   "metadata": {},
   "outputs": [
    {
     "name": "stdout",
     "output_type": "stream",
     "text": [
      "<class 'pandas.core.frame.DataFrame'>\n",
      "RangeIndex: 1889 entries, 0 to 1888\n",
      "Data columns (total 14 columns):\n",
      "imdb_id                 1889 non-null object\n",
      "budget                  1889 non-null int64\n",
      "revenue                 1889 non-null int64\n",
      "original_title          1889 non-null object\n",
      "cast                    1889 non-null object\n",
      "director                1889 non-null object\n",
      "tagline                 1889 non-null object\n",
      "overview                1889 non-null object\n",
      "runtime                 1889 non-null int64\n",
      "genres                  1889 non-null object\n",
      "production_companies    1889 non-null object\n",
      "release_date            1889 non-null object\n",
      "vote_average            1889 non-null float64\n",
      "release_year            1889 non-null int64\n",
      "dtypes: float64(1), int64(4), object(9)\n",
      "memory usage: 206.7+ KB\n"
     ]
    }
   ],
   "source": [
    "data.info()"
   ]
  },
  {
   "cell_type": "markdown",
   "metadata": {
    "colab_type": "text",
    "id": "DTIt7ezGVp-G"
   },
   "source": [
    "# Предобработка"
   ]
  },
  {
   "cell_type": "code",
   "execution_count": 5,
   "metadata": {
    "colab": {},
    "colab_type": "code",
    "id": "jNb40DwKVp-H"
   },
   "outputs": [],
   "source": [
    "answers = {} # создадим словарь для ответов"
   ]
  },
  {
   "cell_type": "code",
   "execution_count": 6,
   "metadata": {},
   "outputs": [],
   "source": [
    "# Функция выбирающая номер ответа в списке вариантов ответов по полученному ответу. Автоматизируем поиск вариантов ответа.\n",
    "def option_search(answer_options, my_answer):\n",
    "    \"\"\"\n",
    "    (lst, lst|str) -> str\n",
    "    Choose number of answer in options by answer.\n",
    "    \"\"\"\n",
    "    answer = \"\"\n",
    "    i = 1 \n",
    "    j = 0\n",
    "    for option in answer_options:\n",
    "        true_answer = True\n",
    "        for item in option:\n",
    "            if item in my_answer:\n",
    "                true_answer = true_answer and True\n",
    "            else:\n",
    "                true_answer = true_answer and False\n",
    "        if true_answer:           \n",
    "            j += 1\n",
    "            if j == 1:\n",
    "                answer += f\"{i}. {', '.join(option)}\"\n",
    "            else:\n",
    "                answer += f\"|{i}. {', '.join(option)}\"\n",
    "        i += 1\n",
    "    return answer\n",
    "      \n"
   ]
  },
  {
   "cell_type": "code",
   "execution_count": 7,
   "metadata": {},
   "outputs": [],
   "source": [
    "# Функция сохранения результата в словаре результатов.\n",
    "def answer_to(answers, task_number, answer_str):\n",
    "    \"\"\"\n",
    "    (dict, num, str) \n",
    "    Save str to dict with key num.\n",
    "    \"\"\"\n",
    "    answers[task_number] = answer_str\n",
    "    return\n",
    "\n"
   ]
  },
  {
   "cell_type": "code",
   "execution_count": 8,
   "metadata": {},
   "outputs": [],
   "source": [
    "# Конвертация числового представления месяца в текстовый.\n",
    "def month_convert(month_number):\n",
    "    \"\"\"\n",
    "    (str) -> str\n",
    "    Convert number of month to month name.\n",
    "    \"\"\"\n",
    "    months = {'1': 'Январь', \n",
    "              '2': 'Февоаль', \n",
    "              '3': 'Март', \n",
    "              '4': 'Апрель', \n",
    "              '5': 'Май',\n",
    "              '6': 'Июнь',\n",
    "              '7': 'Июль',\n",
    "              '8': 'Август',\n",
    "              '9': 'Сентябрь',\n",
    "              '10': 'Октябрь',\n",
    "              '11': 'Ноябрь',\n",
    "              '12': 'Декабрь'\n",
    "             }\n",
    "    return months[month_number]\n",
    "\n"
   ]
  },
  {
   "cell_type": "code",
   "execution_count": 9,
   "metadata": {},
   "outputs": [],
   "source": [
    "# Создание пар элементов из исходного списка (сочетание без повторений по 2)\n",
    "def pair_up(source_list, pair_list):\n",
    "    \"\"\"\n",
    "    (lst, changed_target_lst) \n",
    "    Math combination from list by pair.\n",
    "    \"\"\"\n",
    "    sorted_source = sorted(source_list)\n",
    "    i = 1\n",
    "    for item in sorted_source[:-1]:\n",
    "        for pair in sorted_source[i:]:\n",
    "            pair_list.append(f\"{item} & {pair}\")\n",
    "        i += 1\n",
    "    return\n",
    "\n"
   ]
  },
  {
   "cell_type": "code",
   "execution_count": 10,
   "metadata": {},
   "outputs": [],
   "source": [
    "task_number = 0"
   ]
  },
  {
   "cell_type": "code",
   "execution_count": 11,
   "metadata": {},
   "outputs": [
    {
     "data": {
      "text/plain": [
       "{'Action',\n",
       " 'Adventure',\n",
       " 'Animation',\n",
       " 'Comedy',\n",
       " 'Crime',\n",
       " 'Documentary',\n",
       " 'Drama',\n",
       " 'Family',\n",
       " 'Fantasy',\n",
       " 'Foreign',\n",
       " 'History',\n",
       " 'Horror',\n",
       " 'Music',\n",
       " 'Mystery',\n",
       " 'Romance',\n",
       " 'Science Fiction',\n",
       " 'Thriller',\n",
       " 'War',\n",
       " 'Western'}"
      ]
     },
     "execution_count": 11,
     "metadata": {},
     "output_type": "execute_result"
    }
   ],
   "source": [
    " # Получим множество уникальных жанров.\n",
    "genres_unique = set(data.genres.str.split('|').sum())\n",
    "genres_unique"
   ]
  },
  {
   "cell_type": "code",
   "execution_count": 12,
   "metadata": {
    "scrolled": true
   },
   "outputs": [],
   "source": [
    "# Добавим столбец с прибылью в исходный датасет.\n",
    "data = data.assign(profit = data.revenue - data.budget)"
   ]
  },
  {
   "cell_type": "code",
   "execution_count": 13,
   "metadata": {},
   "outputs": [
    {
     "name": "stdout",
     "output_type": "stream",
     "text": [
      "<class 'pandas.core.frame.DataFrame'>\n",
      "RangeIndex: 1889 entries, 0 to 1888\n",
      "Data columns (total 15 columns):\n",
      "imdb_id                 1889 non-null object\n",
      "budget                  1889 non-null int64\n",
      "revenue                 1889 non-null int64\n",
      "original_title          1889 non-null object\n",
      "cast                    1889 non-null object\n",
      "director                1889 non-null object\n",
      "tagline                 1889 non-null object\n",
      "overview                1889 non-null object\n",
      "runtime                 1889 non-null int64\n",
      "genres                  1889 non-null object\n",
      "production_companies    1889 non-null object\n",
      "release_date            1889 non-null object\n",
      "vote_average            1889 non-null float64\n",
      "release_year            1889 non-null int64\n",
      "profit                  1889 non-null int64\n",
      "dtypes: float64(1), int64(5), object(9)\n",
      "memory usage: 221.5+ KB\n"
     ]
    }
   ],
   "source": [
    "data.info()"
   ]
  },
  {
   "cell_type": "markdown",
   "metadata": {
    "colab_type": "text",
    "id": "YxZaH-nPVp-L"
   },
   "source": [
    "# 1. У какого фильма из списка самый большой бюджет?"
   ]
  },
  {
   "cell_type": "code",
   "execution_count": 14,
   "metadata": {},
   "outputs": [],
   "source": [
    "task_number = 1\n",
    "answer_options_1 = [[\"The Dark Knight Rises (tt1345836)\"],\n",
    "                [\"Spider-Man 3 (tt0413300)\"],\n",
    "                [\"Avengers: Age of Ultron (tt2395427)\"],\n",
    "                [\"The Warrior's Way (tt1032751)\"],\n",
    "                [\"Pirates of the Caribbean: On Stranger Tides (tt1298650)\"]]"
   ]
  },
  {
   "cell_type": "code",
   "execution_count": 15,
   "metadata": {
    "colab": {},
    "colab_type": "code",
    "id": "dZwb3m28Vp-S"
   },
   "outputs": [
    {
     "data": {
      "text/plain": [
       "'Pirates of the Caribbean: On Stranger Tides (tt1298650)'"
      ]
     },
     "execution_count": 15,
     "metadata": {},
     "output_type": "execute_result"
    }
   ],
   "source": [
    "# Решение:\n",
    "my_answer_1 = data.original_title[data.budget == data.budget.max()].iloc[0] + \\\n",
    "    \" (\" + (data.imdb_id[data.budget == data.budget.max()].iloc[0]) + \")\"\n",
    "my_answer_1"
   ]
  },
  {
   "cell_type": "code",
   "execution_count": 16,
   "metadata": {},
   "outputs": [
    {
     "data": {
      "text/plain": [
       "'5. Pirates of the Caribbean: On Stranger Tides (tt1298650)'"
      ]
     },
     "execution_count": 16,
     "metadata": {},
     "output_type": "execute_result"
    }
   ],
   "source": [
    "answer_to(answers, str(task_number), option_search(answer_options_1, my_answer_1))\n",
    "answers[str(task_number)]"
   ]
  },
  {
   "cell_type": "markdown",
   "metadata": {
    "colab_type": "text",
    "id": "K7L3nbRXVp-X"
   },
   "source": [
    "ВАРИАНТ 2"
   ]
  },
  {
   "cell_type": "code",
   "execution_count": 17,
   "metadata": {},
   "outputs": [],
   "source": [
    "\n",
    "idx = data.budget.sort_values().tail(1).index[0]"
   ]
  },
  {
   "cell_type": "code",
   "execution_count": 18,
   "metadata": {},
   "outputs": [
    {
     "data": {
      "text/plain": [
       "'Pirates of the Caribbean: On Stranger Tides (tt1298650)'"
      ]
     },
     "execution_count": 18,
     "metadata": {},
     "output_type": "execute_result"
    }
   ],
   "source": [
    "f\"{data.original_title[idx]} ({data.imdb_id[idx]})\" "
   ]
  },
  {
   "cell_type": "markdown",
   "metadata": {
    "colab_type": "text",
    "id": "FNRbbI3vVp-c"
   },
   "source": [
    "# 2. Какой из фильмов самый длительный (в минутах)?"
   ]
  },
  {
   "cell_type": "code",
   "execution_count": 19,
   "metadata": {},
   "outputs": [],
   "source": [
    "task_number = 2\n",
    "answer_options_2 = [['The Lord of the Rings: The Return of the King (tt0167260)'],\n",
    "                    ['Gods and Generals (tt0279111)'],\n",
    "                    ['King Kong (tt0360717)'],\n",
    "                    ['Pearl Harbor (tt0213149)'],\n",
    "                    ['Alexander (tt0346491)']]"
   ]
  },
  {
   "cell_type": "code",
   "execution_count": 20,
   "metadata": {
    "colab": {},
    "colab_type": "code",
    "id": "vHAoEXNTVp-d"
   },
   "outputs": [],
   "source": [
    "my_answer_2 = data.original_title[data.runtime == data.runtime.max()].iloc[0] + \\\n",
    "    \" (\" + (data.imdb_id[data.runtime == data.runtime.max()].iloc[0]) + \")\""
   ]
  },
  {
   "cell_type": "code",
   "execution_count": 21,
   "metadata": {
    "colab": {},
    "colab_type": "code",
    "id": "ot-VX2XrVp-g"
   },
   "outputs": [
    {
     "data": {
      "text/plain": [
       "'Gods and Generals (tt0279111)'"
      ]
     },
     "execution_count": 21,
     "metadata": {},
     "output_type": "execute_result"
    }
   ],
   "source": [
    "my_answer_2"
   ]
  },
  {
   "cell_type": "code",
   "execution_count": 22,
   "metadata": {},
   "outputs": [
    {
     "data": {
      "text/plain": [
       "'2. Gods and Generals (tt0279111)'"
      ]
     },
     "execution_count": 22,
     "metadata": {},
     "output_type": "execute_result"
    }
   ],
   "source": [
    "answer_to(answers, str(task_number), option_search(answer_options_2, my_answer_2))\n",
    "answers[str(task_number)]"
   ]
  },
  {
   "cell_type": "markdown",
   "metadata": {
    "colab_type": "text",
    "id": "bapLlpW8Vp-k"
   },
   "source": [
    "# 3. Какой из фильмов самый короткий (в минутах)?\n",
    "\n",
    "\n",
    "\n"
   ]
  },
  {
   "cell_type": "code",
   "execution_count": 23,
   "metadata": {},
   "outputs": [],
   "source": [
    "task_number = 3\n",
    "answer_options_3 = [[\"Home on the Range (tt0299172)\"],\n",
    "                    [\"The Jungle Book 2 (tt0283426)\"],\n",
    "                    [\"Winnie the Pooh (tt1449283)\"],\n",
    "                    [\"Corpse Bride (tt0121164)\"],\n",
    "                    [\"Hoodwinked! (tt0443536)\"]]"
   ]
  },
  {
   "cell_type": "code",
   "execution_count": 24,
   "metadata": {
    "colab": {},
    "colab_type": "code",
    "id": "YBxaSHuAVp-l"
   },
   "outputs": [],
   "source": [
    "my_answer_3 = data.original_title[data.runtime == data.runtime.min()].iloc[0] + \\\n",
    "    \" (\" + (data.imdb_id[data.runtime == data.runtime.min()].iloc[0]) + \")\""
   ]
  },
  {
   "cell_type": "code",
   "execution_count": 25,
   "metadata": {},
   "outputs": [
    {
     "data": {
      "text/plain": [
       "'Winnie the Pooh (tt1449283)'"
      ]
     },
     "execution_count": 25,
     "metadata": {},
     "output_type": "execute_result"
    }
   ],
   "source": [
    "my_answer_3"
   ]
  },
  {
   "cell_type": "code",
   "execution_count": 26,
   "metadata": {},
   "outputs": [],
   "source": [
    "answer_to(answers, str(task_number), option_search(answer_options_3, my_answer_3))"
   ]
  },
  {
   "cell_type": "code",
   "execution_count": 27,
   "metadata": {},
   "outputs": [
    {
     "data": {
      "text/plain": [
       "'3. Winnie the Pooh (tt1449283)'"
      ]
     },
     "execution_count": 27,
     "metadata": {},
     "output_type": "execute_result"
    }
   ],
   "source": [
    "answers[str(task_number)]"
   ]
  },
  {
   "cell_type": "markdown",
   "metadata": {
    "colab_type": "text",
    "id": "TfQbxbfNVp-p"
   },
   "source": [
    "# 4. Какова средняя длительность фильмов?\n"
   ]
  },
  {
   "cell_type": "code",
   "execution_count": 28,
   "metadata": {},
   "outputs": [],
   "source": [
    "task_number = 4\n",
    "answer_options_4 = [['115'],\n",
    "                    ['110'],\n",
    "                    ['105'],\n",
    "                    ['120'],\n",
    "                    ['100']]"
   ]
  },
  {
   "cell_type": "code",
   "execution_count": 29,
   "metadata": {
    "colab": {},
    "colab_type": "code",
    "id": "5K6dKZYVVp-q"
   },
   "outputs": [],
   "source": [
    "my_answer_4 = round(data.runtime.mean()) "
   ]
  },
  {
   "cell_type": "code",
   "execution_count": 30,
   "metadata": {},
   "outputs": [
    {
     "data": {
      "text/plain": [
       "110"
      ]
     },
     "execution_count": 30,
     "metadata": {},
     "output_type": "execute_result"
    }
   ],
   "source": [
    "my_answer_4"
   ]
  },
  {
   "cell_type": "code",
   "execution_count": 31,
   "metadata": {},
   "outputs": [],
   "source": [
    "answer_to(answers, str(task_number), option_search(answer_options_4, str(my_answer_4)))"
   ]
  },
  {
   "cell_type": "code",
   "execution_count": 32,
   "metadata": {},
   "outputs": [
    {
     "data": {
      "text/plain": [
       "'2. 110'"
      ]
     },
     "execution_count": 32,
     "metadata": {},
     "output_type": "execute_result"
    }
   ],
   "source": [
    "answers[str(task_number)]"
   ]
  },
  {
   "cell_type": "markdown",
   "metadata": {
    "colab_type": "text",
    "id": "r5TvbnT_Vp-u"
   },
   "source": [
    "# 5. Каково медианное значение длительности фильмов? "
   ]
  },
  {
   "cell_type": "code",
   "execution_count": 33,
   "metadata": {},
   "outputs": [],
   "source": [
    "task_number = 5\n",
    "answer_options_5 = [['107'],\n",
    "                    ['112'],\n",
    "                    ['101'],\n",
    "                    ['120'],\n",
    "                    ['115']]"
   ]
  },
  {
   "cell_type": "code",
   "execution_count": 34,
   "metadata": {
    "colab": {},
    "colab_type": "code",
    "id": "iBROplKnVp-v"
   },
   "outputs": [],
   "source": [
    "my_answer_5 = round(data.runtime.median())"
   ]
  },
  {
   "cell_type": "code",
   "execution_count": 35,
   "metadata": {},
   "outputs": [
    {
     "data": {
      "text/plain": [
       "107"
      ]
     },
     "execution_count": 35,
     "metadata": {},
     "output_type": "execute_result"
    }
   ],
   "source": [
    "my_answer_5"
   ]
  },
  {
   "cell_type": "code",
   "execution_count": 36,
   "metadata": {},
   "outputs": [],
   "source": [
    "answer_to(answers, str(task_number), option_search(answer_options_5, str(my_answer_5)))"
   ]
  },
  {
   "cell_type": "code",
   "execution_count": 37,
   "metadata": {},
   "outputs": [
    {
     "data": {
      "text/plain": [
       "'1. 107'"
      ]
     },
     "execution_count": 37,
     "metadata": {},
     "output_type": "execute_result"
    }
   ],
   "source": [
    "answers[str(task_number)]"
   ]
  },
  {
   "cell_type": "markdown",
   "metadata": {
    "colab_type": "text",
    "id": "39P-deDSVp-y"
   },
   "source": [
    "# 6. Какой самый прибыльный фильм?\n",
    "#### Внимание! Здесь и далее под «прибылью» или «убытками» понимается разность между сборами и бюджетом фильма. (прибыль = сборы - бюджет) в нашем датасете это будет (profit = revenue - budget) "
   ]
  },
  {
   "cell_type": "code",
   "execution_count": 38,
   "metadata": {},
   "outputs": [],
   "source": [
    "task_number = 6\n",
    "answer_options_6 = [['The Avengers (tt0848228)'],\n",
    "                    ['Minions (tt2293640)'],\n",
    "                    ['Star Wars: The Force Awakens (tt2488496)'],\n",
    "                    ['Furious 7 (tt2820852)'],\n",
    "                    ['Avatar (tt0499549)']]"
   ]
  },
  {
   "cell_type": "code",
   "execution_count": 39,
   "metadata": {
    "colab": {},
    "colab_type": "code",
    "id": "UYZh4T9WVp-y"
   },
   "outputs": [],
   "source": [
    "# лучше код получения столбца profit вынести в Предобработку что в начале\n",
    "my_answer_6 = data.original_title[data.profit == data.profit.max()].iloc[0] + \\\n",
    "    \" (\" + (data.imdb_id[data.profit == data.profit.max()].iloc[0]) + \")\""
   ]
  },
  {
   "cell_type": "code",
   "execution_count": 40,
   "metadata": {},
   "outputs": [
    {
     "data": {
      "text/plain": [
       "'Avatar (tt0499549)'"
      ]
     },
     "execution_count": 40,
     "metadata": {},
     "output_type": "execute_result"
    }
   ],
   "source": [
    "my_answer_6"
   ]
  },
  {
   "cell_type": "code",
   "execution_count": 41,
   "metadata": {},
   "outputs": [
    {
     "data": {
      "text/plain": [
       "'5. Avatar (tt0499549)'"
      ]
     },
     "execution_count": 41,
     "metadata": {},
     "output_type": "execute_result"
    }
   ],
   "source": [
    "answer_to(answers, str(task_number), option_search(answer_options_6, my_answer_6))\n",
    "\n",
    "answers[str(task_number)]"
   ]
  },
  {
   "cell_type": "markdown",
   "metadata": {
    "colab_type": "text",
    "id": "M99JmIX4Vp-2"
   },
   "source": [
    "# 7. Какой фильм самый убыточный? "
   ]
  },
  {
   "cell_type": "code",
   "execution_count": 42,
   "metadata": {},
   "outputs": [],
   "source": [
    "task_number = 7\n",
    "answer_options_7 = [['Supernova (tt0134983)'],\n",
    "                    ['Frozen (tt2294629)'],\n",
    "                    ['Flushed Away (tt0424095)'],\n",
    "                    ['The Adventures of Pluto Nash (tt0180052)'],\n",
    "                    ['The Lone Ranger (tt1210819)']]"
   ]
  },
  {
   "cell_type": "code",
   "execution_count": 43,
   "metadata": {
    "colab": {},
    "colab_type": "code",
    "id": "w-D2m4XPVp-3"
   },
   "outputs": [],
   "source": [
    "my_answer_7 = data.original_title[data.profit == data.profit.min()].iloc[0] + \\\n",
    "    \" (\" + (data.imdb_id[data.profit == data.profit.min()].iloc[0]) + \")\""
   ]
  },
  {
   "cell_type": "code",
   "execution_count": 44,
   "metadata": {},
   "outputs": [
    {
     "data": {
      "text/plain": [
       "'The Lone Ranger (tt1210819)'"
      ]
     },
     "execution_count": 44,
     "metadata": {},
     "output_type": "execute_result"
    }
   ],
   "source": [
    "my_answer_7\n"
   ]
  },
  {
   "cell_type": "code",
   "execution_count": 45,
   "metadata": {},
   "outputs": [
    {
     "data": {
      "text/plain": [
       "'5. The Lone Ranger (tt1210819)'"
      ]
     },
     "execution_count": 45,
     "metadata": {},
     "output_type": "execute_result"
    }
   ],
   "source": [
    "answer_to(answers, str(task_number), option_search(answer_options_7, my_answer_7))\n",
    "\n",
    "answers[str(task_number)]"
   ]
  },
  {
   "cell_type": "markdown",
   "metadata": {
    "colab_type": "text",
    "id": "wEOM5ERVVp-6"
   },
   "source": [
    "# 8. У скольких фильмов из датасета объем сборов оказался выше бюджета?"
   ]
  },
  {
   "cell_type": "code",
   "execution_count": 46,
   "metadata": {},
   "outputs": [],
   "source": [
    "task_number = 8\n",
    "answer_options_8 = [['1478'],\n",
    "                    ['1520'],\n",
    "                    ['1241'],\n",
    "                    ['1135'],\n",
    "                    ['1398']]"
   ]
  },
  {
   "cell_type": "code",
   "execution_count": 47,
   "metadata": {
    "colab": {},
    "colab_type": "code",
    "id": "y00_7HD6Vp-7"
   },
   "outputs": [],
   "source": [
    "my_answer_8 = len(data[data.revenue > data.budget])"
   ]
  },
  {
   "cell_type": "code",
   "execution_count": 48,
   "metadata": {},
   "outputs": [
    {
     "data": {
      "text/plain": [
       "1478"
      ]
     },
     "execution_count": 48,
     "metadata": {},
     "output_type": "execute_result"
    }
   ],
   "source": [
    "my_answer_8"
   ]
  },
  {
   "cell_type": "code",
   "execution_count": 49,
   "metadata": {},
   "outputs": [
    {
     "data": {
      "text/plain": [
       "'1. 1478'"
      ]
     },
     "execution_count": 49,
     "metadata": {},
     "output_type": "execute_result"
    }
   ],
   "source": [
    "answer_to(answers, str(task_number), option_search(answer_options_8, str(my_answer_8)))\n",
    "\n",
    "answers[str(task_number)]"
   ]
  },
  {
   "cell_type": "markdown",
   "metadata": {
    "colab_type": "text",
    "id": "xhpspA9KVp_A"
   },
   "source": [
    "# 9. Какой фильм оказался самым кассовым в 2008 году?"
   ]
  },
  {
   "cell_type": "code",
   "execution_count": 50,
   "metadata": {},
   "outputs": [],
   "source": [
    "task_number = 9\n",
    "answer_options_9 = [['Madagascar: Escape 2 Africa (tt0479952)'],\n",
    "                    ['Iron Man (tt0371746)'],\n",
    "                    ['Kung Fu Panda (tt0441773)'],\n",
    "                    ['The Dark Knight (tt0468569)'],\n",
    "                    ['Mamma Mia! (tt0795421)']]"
   ]
  },
  {
   "cell_type": "code",
   "execution_count": 51,
   "metadata": {
    "colab": {},
    "colab_type": "code",
    "id": "MoUyQr9RVp_B"
   },
   "outputs": [],
   "source": [
    "data_2008 = data[data.release_year == 2008]\n",
    "my_answer_9 = data_2008.original_title[data_2008.revenue == data_2008.revenue.max()].iloc[0] + \\\n",
    "    \" (\" + data_2008.imdb_id[data_2008.revenue == data_2008.revenue.max()].iloc[0] + \")\""
   ]
  },
  {
   "cell_type": "code",
   "execution_count": 52,
   "metadata": {},
   "outputs": [
    {
     "data": {
      "text/plain": [
       "'The Dark Knight (tt0468569)'"
      ]
     },
     "execution_count": 52,
     "metadata": {},
     "output_type": "execute_result"
    }
   ],
   "source": [
    "my_answer_9"
   ]
  },
  {
   "cell_type": "code",
   "execution_count": 53,
   "metadata": {},
   "outputs": [
    {
     "data": {
      "text/plain": [
       "'4. The Dark Knight (tt0468569)'"
      ]
     },
     "execution_count": 53,
     "metadata": {},
     "output_type": "execute_result"
    }
   ],
   "source": [
    "answer_to(answers, str(task_number), option_search(answer_options_9, my_answer_9))\n",
    "\n",
    "answers[str(task_number)]"
   ]
  },
  {
   "cell_type": "markdown",
   "metadata": {
    "colab_type": "text",
    "id": "Zi4hDKidVp_F"
   },
   "source": [
    "# 10. Самый убыточный фильм за период с 2012 по 2014 г. (включительно)?\n"
   ]
  },
  {
   "cell_type": "code",
   "execution_count": 54,
   "metadata": {},
   "outputs": [],
   "source": [
    "task_number = 10\n",
    "answer_options_10 = [[\"Winter's Tale (tt1837709)\"],\n",
    "                    [\"Stolen (tt1656186)\"],\n",
    "                    [\"Broken City (tt1235522)\"],\n",
    "                    [\"Upside Down (tt1374992)\"],\n",
    "                    [\"The Lone Ranger (tt1210819)\"]]"
   ]
  },
  {
   "cell_type": "code",
   "execution_count": 55,
   "metadata": {
    "colab": {},
    "colab_type": "code",
    "id": "XqyRmufJVp_F"
   },
   "outputs": [],
   "source": [
    "data_2012_2014 = data[(data.release_year >= 2012) & (data.release_year <= 2014)]\n",
    "my_answer_10 = data_2012_2014.original_title[data_2012_2014.profit == data_2012_2014.profit.min()].iloc[0] + \\\n",
    "    \" (\" + (data_2012_2014.imdb_id[data_2012_2014.profit == data_2012_2014.profit.min()].iloc[0]) + \")\""
   ]
  },
  {
   "cell_type": "code",
   "execution_count": 56,
   "metadata": {},
   "outputs": [
    {
     "data": {
      "text/plain": [
       "'The Lone Ranger (tt1210819)'"
      ]
     },
     "execution_count": 56,
     "metadata": {},
     "output_type": "execute_result"
    }
   ],
   "source": [
    "my_answer_10"
   ]
  },
  {
   "cell_type": "code",
   "execution_count": 57,
   "metadata": {},
   "outputs": [
    {
     "data": {
      "text/plain": [
       "'5. The Lone Ranger (tt1210819)'"
      ]
     },
     "execution_count": 57,
     "metadata": {},
     "output_type": "execute_result"
    }
   ],
   "source": [
    "answer_to(answers, str(task_number), option_search(answer_options_10, my_answer_10))\n",
    "\n",
    "answers[str(task_number)]"
   ]
  },
  {
   "cell_type": "markdown",
   "metadata": {
    "colab_type": "text",
    "id": "EA7Sa9dkVp_I"
   },
   "source": [
    "# 11. Какого жанра фильмов больше всего?"
   ]
  },
  {
   "cell_type": "code",
   "execution_count": 58,
   "metadata": {},
   "outputs": [],
   "source": [
    "task_number = 11\n",
    "answer_options_11 = [[\"Action\"],\n",
    "                    [\"Adventure\"],\n",
    "                    [\"Drama\"],\n",
    "                    [\"Comedy\"],\n",
    "                    [\"Thriller\"]]"
   ]
  },
  {
   "cell_type": "code",
   "execution_count": 59,
   "metadata": {
    "colab": {},
    "colab_type": "code",
    "id": "zsJAwJ8QVp_J"
   },
   "outputs": [],
   "source": [
    "# эту задачу тоже можно решать разными подходами, попробуй реализовать разные варианты\n",
    "# если будешь добавлять функцию - выноси ее в предобработку что в начале"
   ]
  },
  {
   "cell_type": "code",
   "execution_count": 60,
   "metadata": {},
   "outputs": [],
   "source": [
    "my_answer_11 = pd.Series(data.genres.str.split('|').sum()).value_counts().index[0]"
   ]
  },
  {
   "cell_type": "code",
   "execution_count": 61,
   "metadata": {},
   "outputs": [
    {
     "data": {
      "text/plain": [
       "'Drama'"
      ]
     },
     "execution_count": 61,
     "metadata": {},
     "output_type": "execute_result"
    }
   ],
   "source": [
    "my_answer_11"
   ]
  },
  {
   "cell_type": "code",
   "execution_count": 62,
   "metadata": {},
   "outputs": [
    {
     "data": {
      "text/plain": [
       "'3. Drama'"
      ]
     },
     "execution_count": 62,
     "metadata": {},
     "output_type": "execute_result"
    }
   ],
   "source": [
    "answer_to(answers, str(task_number), option_search(answer_options_11, my_answer_11))\n",
    "\n",
    "answers[str(task_number)]"
   ]
  },
  {
   "cell_type": "markdown",
   "metadata": {
    "colab_type": "text",
    "id": "Ax6g2C8SVp_M"
   },
   "source": [
    "ВАРИАНТ 2\n"
   ]
  },
  {
   "cell_type": "code",
   "execution_count": 63,
   "metadata": {},
   "outputs": [
    {
     "data": {
      "text/plain": [
       "'Drama'"
      ]
     },
     "execution_count": 63,
     "metadata": {},
     "output_type": "execute_result"
    }
   ],
   "source": [
    "max(genres_unique, key=lambda x:data.genres.str.split('|').sum().count(x))\n"
   ]
  },
  {
   "cell_type": "markdown",
   "metadata": {
    "colab_type": "text",
    "id": "T9_bPWpkVp_Q"
   },
   "source": [
    "# 12. Фильмы какого жанра чаще всего становятся прибыльными? "
   ]
  },
  {
   "cell_type": "code",
   "execution_count": 64,
   "metadata": {},
   "outputs": [],
   "source": [
    "task_number = 12\n",
    "answer_options_12 = [[\"Drama\"],\n",
    "                    [\"Comedy\"],\n",
    "                    [\"Action\"],\n",
    "                    [\"Thriller\"],\n",
    "                    [\"Adventure\"]]"
   ]
  },
  {
   "cell_type": "code",
   "execution_count": 65,
   "metadata": {},
   "outputs": [
    {
     "data": {
      "text/plain": [
       "0       Action|Adventure|Science Fiction|Thriller\n",
       "1       Action|Adventure|Science Fiction|Thriller\n",
       "2              Adventure|Science Fiction|Thriller\n",
       "3        Action|Adventure|Science Fiction|Fantasy\n",
       "4                           Action|Crime|Thriller\n",
       "                          ...                    \n",
       "1871                                       Comedy\n",
       "1875                        Fantasy|Comedy|Family\n",
       "1877                  Action|Comedy|Drama|Romance\n",
       "1883                         Romance|Comedy|Drama\n",
       "1884             Adventure|Action|Science Fiction\n",
       "Name: genres, Length: 1478, dtype: object"
      ]
     },
     "execution_count": 65,
     "metadata": {},
     "output_type": "execute_result"
    }
   ],
   "source": [
    "s_genres_profit = data.genres[data.profit > 0]\n",
    "s_genres_profit"
   ]
  },
  {
   "cell_type": "code",
   "execution_count": 66,
   "metadata": {},
   "outputs": [
    {
     "data": {
      "text/plain": [
       "'Drama'"
      ]
     },
     "execution_count": 66,
     "metadata": {},
     "output_type": "execute_result"
    }
   ],
   "source": [
    "my_answer_12 = pd.Series(s_genres_profit.str.split('|').sum()).value_counts().head(1).index[0]\n",
    "my_answer_12"
   ]
  },
  {
   "cell_type": "code",
   "execution_count": 67,
   "metadata": {},
   "outputs": [
    {
     "data": {
      "text/plain": [
       "'1. Drama'"
      ]
     },
     "execution_count": 67,
     "metadata": {},
     "output_type": "execute_result"
    }
   ],
   "source": [
    "answer_to(answers, str(task_number), option_search(answer_options_12, my_answer_12))\n",
    "\n",
    "answers[str(task_number)]"
   ]
  },
  {
   "cell_type": "markdown",
   "metadata": {
    "colab_type": "text",
    "id": "0F23bgsDVp_U"
   },
   "source": [
    "# 13. У какого режиссера самые большие суммарные кассовые сборы?"
   ]
  },
  {
   "cell_type": "code",
   "execution_count": 68,
   "metadata": {},
   "outputs": [],
   "source": [
    "task_number = 13\n",
    "answer_options_13 = [[\"Steven Spielberg\"],\n",
    "                    [\"Christopher Nolan\"],\n",
    "                    [\"David Yates\"],\n",
    "                    [\"James Cameron\"],\n",
    "                    [\"Peter Jackson\"]]"
   ]
  },
  {
   "cell_type": "code",
   "execution_count": 69,
   "metadata": {},
   "outputs": [
    {
     "data": {
      "text/html": [
       "<div>\n",
       "<style scoped>\n",
       "    .dataframe tbody tr th:only-of-type {\n",
       "        vertical-align: middle;\n",
       "    }\n",
       "\n",
       "    .dataframe tbody tr th {\n",
       "        vertical-align: top;\n",
       "    }\n",
       "\n",
       "    .dataframe thead th {\n",
       "        text-align: right;\n",
       "    }\n",
       "</style>\n",
       "<table border=\"1\" class=\"dataframe\">\n",
       "  <thead>\n",
       "    <tr style=\"text-align: right;\">\n",
       "      <th></th>\n",
       "      <th>director</th>\n",
       "      <th>revenue</th>\n",
       "    </tr>\n",
       "  </thead>\n",
       "  <tbody>\n",
       "    <tr>\n",
       "      <td>0</td>\n",
       "      <td>Colin Trevorrow</td>\n",
       "      <td>1513528810</td>\n",
       "    </tr>\n",
       "    <tr>\n",
       "      <td>1</td>\n",
       "      <td>George Miller</td>\n",
       "      <td>378436354</td>\n",
       "    </tr>\n",
       "    <tr>\n",
       "      <td>2</td>\n",
       "      <td>Robert Schwentke</td>\n",
       "      <td>295238201</td>\n",
       "    </tr>\n",
       "    <tr>\n",
       "      <td>3</td>\n",
       "      <td>J.J. Abrams</td>\n",
       "      <td>2068178225</td>\n",
       "    </tr>\n",
       "    <tr>\n",
       "      <td>4</td>\n",
       "      <td>James Wan</td>\n",
       "      <td>1506249360</td>\n",
       "    </tr>\n",
       "    <tr>\n",
       "      <td>...</td>\n",
       "      <td>...</td>\n",
       "      <td>...</td>\n",
       "    </tr>\n",
       "    <tr>\n",
       "      <td>1884</td>\n",
       "      <td>Bryan Singer</td>\n",
       "      <td>157299717</td>\n",
       "    </tr>\n",
       "    <tr>\n",
       "      <td>1885</td>\n",
       "      <td>Uli Edel</td>\n",
       "      <td>13555988</td>\n",
       "    </tr>\n",
       "    <tr>\n",
       "      <td>1886</td>\n",
       "      <td>Des McAnuff</td>\n",
       "      <td>35134820</td>\n",
       "    </tr>\n",
       "    <tr>\n",
       "      <td>1887</td>\n",
       "      <td>Diane Keaton</td>\n",
       "      <td>36037909</td>\n",
       "    </tr>\n",
       "    <tr>\n",
       "      <td>1888</td>\n",
       "      <td>Mary Lambert</td>\n",
       "      <td>5217498</td>\n",
       "    </tr>\n",
       "  </tbody>\n",
       "</table>\n",
       "<p>1889 rows × 2 columns</p>\n",
       "</div>"
      ],
      "text/plain": [
       "              director     revenue\n",
       "0      Colin Trevorrow  1513528810\n",
       "1        George Miller   378436354\n",
       "2     Robert Schwentke   295238201\n",
       "3          J.J. Abrams  2068178225\n",
       "4            James Wan  1506249360\n",
       "...                ...         ...\n",
       "1884      Bryan Singer   157299717\n",
       "1885          Uli Edel    13555988\n",
       "1886       Des McAnuff    35134820\n",
       "1887      Diane Keaton    36037909\n",
       "1888      Mary Lambert     5217498\n",
       "\n",
       "[1889 rows x 2 columns]"
      ]
     },
     "execution_count": 69,
     "metadata": {},
     "output_type": "execute_result"
    }
   ],
   "source": [
    "df_director_revenue = data[['director', 'revenue']]\n",
    "df_director_revenue"
   ]
  },
  {
   "cell_type": "code",
   "execution_count": 70,
   "metadata": {},
   "outputs": [
    {
     "data": {
      "text/html": [
       "<div>\n",
       "<style scoped>\n",
       "    .dataframe tbody tr th:only-of-type {\n",
       "        vertical-align: middle;\n",
       "    }\n",
       "\n",
       "    .dataframe tbody tr th {\n",
       "        vertical-align: top;\n",
       "    }\n",
       "\n",
       "    .dataframe thead th {\n",
       "        text-align: right;\n",
       "    }\n",
       "</style>\n",
       "<table border=\"1\" class=\"dataframe\">\n",
       "  <thead>\n",
       "    <tr style=\"text-align: right;\">\n",
       "      <th></th>\n",
       "      <th>director</th>\n",
       "      <th>revenue</th>\n",
       "    </tr>\n",
       "  </thead>\n",
       "  <tbody>\n",
       "  </tbody>\n",
       "</table>\n",
       "</div>"
      ],
      "text/plain": [
       "Empty DataFrame\n",
       "Columns: [director, revenue]\n",
       "Index: []"
      ]
     },
     "execution_count": 70,
     "metadata": {},
     "output_type": "execute_result"
    }
   ],
   "source": [
    "df_director_revenue_separated = pd.DataFrame({'director':[], 'revenue':[]})\n",
    "df_director_revenue_separated"
   ]
  },
  {
   "cell_type": "code",
   "execution_count": 71,
   "metadata": {},
   "outputs": [],
   "source": [
    "k = 0\n",
    "for i, j in df_director_revenue.iterrows():\n",
    "    for director in j[0].split('|'):\n",
    "        df_director_revenue_separated.loc[k] = [director, j[1]]\n",
    "        k += 1 "
   ]
  },
  {
   "cell_type": "code",
   "execution_count": 72,
   "metadata": {},
   "outputs": [
    {
     "data": {
      "text/html": [
       "<div>\n",
       "<style scoped>\n",
       "    .dataframe tbody tr th:only-of-type {\n",
       "        vertical-align: middle;\n",
       "    }\n",
       "\n",
       "    .dataframe tbody tr th {\n",
       "        vertical-align: top;\n",
       "    }\n",
       "\n",
       "    .dataframe thead th {\n",
       "        text-align: right;\n",
       "    }\n",
       "</style>\n",
       "<table border=\"1\" class=\"dataframe\">\n",
       "  <thead>\n",
       "    <tr style=\"text-align: right;\">\n",
       "      <th></th>\n",
       "      <th>director</th>\n",
       "      <th>revenue</th>\n",
       "    </tr>\n",
       "  </thead>\n",
       "  <tbody>\n",
       "    <tr>\n",
       "      <td>0</td>\n",
       "      <td>Colin Trevorrow</td>\n",
       "      <td>1.513529e+09</td>\n",
       "    </tr>\n",
       "    <tr>\n",
       "      <td>1</td>\n",
       "      <td>George Miller</td>\n",
       "      <td>3.784364e+08</td>\n",
       "    </tr>\n",
       "    <tr>\n",
       "      <td>2</td>\n",
       "      <td>Robert Schwentke</td>\n",
       "      <td>2.952382e+08</td>\n",
       "    </tr>\n",
       "    <tr>\n",
       "      <td>3</td>\n",
       "      <td>J.J. Abrams</td>\n",
       "      <td>2.068178e+09</td>\n",
       "    </tr>\n",
       "    <tr>\n",
       "      <td>4</td>\n",
       "      <td>James Wan</td>\n",
       "      <td>1.506249e+09</td>\n",
       "    </tr>\n",
       "  </tbody>\n",
       "</table>\n",
       "</div>"
      ],
      "text/plain": [
       "           director       revenue\n",
       "0   Colin Trevorrow  1.513529e+09\n",
       "1     George Miller  3.784364e+08\n",
       "2  Robert Schwentke  2.952382e+08\n",
       "3       J.J. Abrams  2.068178e+09\n",
       "4         James Wan  1.506249e+09"
      ]
     },
     "execution_count": 72,
     "metadata": {},
     "output_type": "execute_result"
    }
   ],
   "source": [
    "df_director_revenue_separated.head()"
   ]
  },
  {
   "cell_type": "code",
   "execution_count": 73,
   "metadata": {},
   "outputs": [
    {
     "data": {
      "text/plain": [
       "director\n",
       "Peter Jackson    6.490594e+09\n",
       "Name: revenue, dtype: float64"
      ]
     },
     "execution_count": 73,
     "metadata": {},
     "output_type": "execute_result"
    }
   ],
   "source": [
    "df_director_revenue_separated.groupby('director').revenue.sum().sort_values().tail(1)"
   ]
  },
  {
   "cell_type": "code",
   "execution_count": 74,
   "metadata": {},
   "outputs": [
    {
     "data": {
      "text/plain": [
       "'Peter Jackson'"
      ]
     },
     "execution_count": 74,
     "metadata": {},
     "output_type": "execute_result"
    }
   ],
   "source": [
    "my_answer_13 = df_director_revenue_separated.groupby('director').revenue.sum().sort_values().tail(1).index[0]\n",
    "my_answer_13"
   ]
  },
  {
   "cell_type": "code",
   "execution_count": 75,
   "metadata": {},
   "outputs": [
    {
     "data": {
      "text/plain": [
       "'5. Peter Jackson'"
      ]
     },
     "execution_count": 75,
     "metadata": {},
     "output_type": "execute_result"
    }
   ],
   "source": [
    "answer_to(answers, str(task_number), option_search(answer_options_13, my_answer_13))\n",
    "\n",
    "answers[str(task_number)]"
   ]
  },
  {
   "cell_type": "markdown",
   "metadata": {
    "colab_type": "text",
    "id": "PsYC9FgRVp_a"
   },
   "source": [
    "# 14. Какой режисер снял больше всего фильмов в стиле Action?"
   ]
  },
  {
   "cell_type": "code",
   "execution_count": 76,
   "metadata": {},
   "outputs": [],
   "source": [
    "task_number = 14\n",
    "answer_options_14 = [[\"Ridley Scott\"],\n",
    "                    [\"Guy Ritchie\"],\n",
    "                    [\"Robert Rodriguez\"],\n",
    "                    [\"Quentin Tarantino\"],\n",
    "                    [\"Tony Scott\"]]"
   ]
  },
  {
   "cell_type": "code",
   "execution_count": 77,
   "metadata": {},
   "outputs": [
    {
     "data": {
      "text/plain": [
       "Robert Rodriguez    9\n",
       "dtype: int64"
      ]
     },
     "execution_count": 77,
     "metadata": {},
     "output_type": "execute_result"
    }
   ],
   "source": [
    "data_action = data[data.genres.str.contains(\"Action\")]\n",
    "pd.Series(data_action.director.str.split('|').sum()).value_counts().head(1)"
   ]
  },
  {
   "cell_type": "code",
   "execution_count": 78,
   "metadata": {},
   "outputs": [
    {
     "data": {
      "text/plain": [
       "'Robert Rodriguez'"
      ]
     },
     "execution_count": 78,
     "metadata": {},
     "output_type": "execute_result"
    }
   ],
   "source": [
    "my_answer_14 = pd.Series(data_action.director.str.split('|').sum()).value_counts().head(1).index[0]\n",
    "my_answer_14"
   ]
  },
  {
   "cell_type": "code",
   "execution_count": 79,
   "metadata": {},
   "outputs": [
    {
     "data": {
      "text/plain": [
       "'3. Robert Rodriguez'"
      ]
     },
     "execution_count": 79,
     "metadata": {},
     "output_type": "execute_result"
    }
   ],
   "source": [
    "answer_to(answers, str(task_number), option_search(answer_options_14, my_answer_14))\n",
    "\n",
    "answers[str(task_number)]"
   ]
  },
  {
   "cell_type": "markdown",
   "metadata": {
    "colab_type": "text",
    "id": "PQ0KciD7Vp_f"
   },
   "source": [
    "# 15. Фильмы с каким актером принесли самые высокие кассовые сборы в 2012 году? "
   ]
  },
  {
   "cell_type": "code",
   "execution_count": 80,
   "metadata": {},
   "outputs": [],
   "source": [
    "task_number = 15\n",
    "answer_options_15 = [[\"Nicolas Cage\"],\n",
    "                    [\"Tom Hardy\"],\n",
    "                    [\"Chris Hemsworth\"],\n",
    "                    [\"Jim Sturgess\"],\n",
    "                    [\"Emma Stone\"]]"
   ]
  },
  {
   "cell_type": "code",
   "execution_count": 81,
   "metadata": {
    "colab": {},
    "colab_type": "code",
    "id": "aga62oeKVp_g"
   },
   "outputs": [
    {
     "data": {
      "text/html": [
       "<div>\n",
       "<style scoped>\n",
       "    .dataframe tbody tr th:only-of-type {\n",
       "        vertical-align: middle;\n",
       "    }\n",
       "\n",
       "    .dataframe tbody tr th {\n",
       "        vertical-align: top;\n",
       "    }\n",
       "\n",
       "    .dataframe thead th {\n",
       "        text-align: right;\n",
       "    }\n",
       "</style>\n",
       "<table border=\"1\" class=\"dataframe\">\n",
       "  <thead>\n",
       "    <tr style=\"text-align: right;\">\n",
       "      <th></th>\n",
       "      <th>cast</th>\n",
       "      <th>revenue</th>\n",
       "    </tr>\n",
       "  </thead>\n",
       "  <tbody>\n",
       "    <tr>\n",
       "      <td>970</td>\n",
       "      <td>Robert Downey Jr.|Chris Evans|Mark Ruffalo|Chr...</td>\n",
       "      <td>1519557910</td>\n",
       "    </tr>\n",
       "    <tr>\n",
       "      <td>971</td>\n",
       "      <td>Kate Beckinsale|Stephen Rea|Michael Ealy|Theo ...</td>\n",
       "      <td>132400000</td>\n",
       "    </tr>\n",
       "    <tr>\n",
       "      <td>972</td>\n",
       "      <td>Christian Bale|Michael Caine|Gary Oldman|Anne ...</td>\n",
       "      <td>1081041287</td>\n",
       "    </tr>\n",
       "    <tr>\n",
       "      <td>973</td>\n",
       "      <td>Jamie Foxx|Christoph Waltz|Leonardo DiCaprio|K...</td>\n",
       "      <td>425368238</td>\n",
       "    </tr>\n",
       "    <tr>\n",
       "      <td>974</td>\n",
       "      <td>Daniel Craig|Judi Dench|Javier Bardem|Ralph Fi...</td>\n",
       "      <td>1108561013</td>\n",
       "    </tr>\n",
       "    <tr>\n",
       "      <td>...</td>\n",
       "      <td>...</td>\n",
       "      <td>...</td>\n",
       "    </tr>\n",
       "    <tr>\n",
       "      <td>1076</td>\n",
       "      <td>Ashley Greene|Sebastian Stan|Tom Felton|Julian...</td>\n",
       "      <td>9627492</td>\n",
       "    </tr>\n",
       "    <tr>\n",
       "      <td>1077</td>\n",
       "      <td>Robert Pattinson|Sarah Gadon|Juliette Binoche|...</td>\n",
       "      <td>6063556</td>\n",
       "    </tr>\n",
       "    <tr>\n",
       "      <td>1078</td>\n",
       "      <td>Milla Jovovich|Sienna Guillory|Michelle Rodrig...</td>\n",
       "      <td>240159255</td>\n",
       "    </tr>\n",
       "    <tr>\n",
       "      <td>1079</td>\n",
       "      <td>Whitney Houston|Cee Lo Green|Derek Luke|Mike E...</td>\n",
       "      <td>24637469</td>\n",
       "    </tr>\n",
       "    <tr>\n",
       "      <td>1080</td>\n",
       "      <td>Katy Perry|Russell Brand|Shannon Woodward|Rach...</td>\n",
       "      <td>32726956</td>\n",
       "    </tr>\n",
       "  </tbody>\n",
       "</table>\n",
       "<p>111 rows × 2 columns</p>\n",
       "</div>"
      ],
      "text/plain": [
       "                                                   cast     revenue\n",
       "970   Robert Downey Jr.|Chris Evans|Mark Ruffalo|Chr...  1519557910\n",
       "971   Kate Beckinsale|Stephen Rea|Michael Ealy|Theo ...   132400000\n",
       "972   Christian Bale|Michael Caine|Gary Oldman|Anne ...  1081041287\n",
       "973   Jamie Foxx|Christoph Waltz|Leonardo DiCaprio|K...   425368238\n",
       "974   Daniel Craig|Judi Dench|Javier Bardem|Ralph Fi...  1108561013\n",
       "...                                                 ...         ...\n",
       "1076  Ashley Greene|Sebastian Stan|Tom Felton|Julian...     9627492\n",
       "1077  Robert Pattinson|Sarah Gadon|Juliette Binoche|...     6063556\n",
       "1078  Milla Jovovich|Sienna Guillory|Michelle Rodrig...   240159255\n",
       "1079  Whitney Houston|Cee Lo Green|Derek Luke|Mike E...    24637469\n",
       "1080  Katy Perry|Russell Brand|Shannon Woodward|Rach...    32726956\n",
       "\n",
       "[111 rows x 2 columns]"
      ]
     },
     "execution_count": 81,
     "metadata": {},
     "output_type": "execute_result"
    }
   ],
   "source": [
    "data_2012 = data[data.release_year == 2012]\n",
    "df_2012_actor_revenue = data_2012[['cast', 'revenue']]\n",
    "df_2012_actor_revenue"
   ]
  },
  {
   "cell_type": "code",
   "execution_count": 82,
   "metadata": {},
   "outputs": [
    {
     "data": {
      "text/html": [
       "<div>\n",
       "<style scoped>\n",
       "    .dataframe tbody tr th:only-of-type {\n",
       "        vertical-align: middle;\n",
       "    }\n",
       "\n",
       "    .dataframe tbody tr th {\n",
       "        vertical-align: top;\n",
       "    }\n",
       "\n",
       "    .dataframe thead th {\n",
       "        text-align: right;\n",
       "    }\n",
       "</style>\n",
       "<table border=\"1\" class=\"dataframe\">\n",
       "  <thead>\n",
       "    <tr style=\"text-align: right;\">\n",
       "      <th></th>\n",
       "      <th>actor</th>\n",
       "      <th>revenue</th>\n",
       "    </tr>\n",
       "  </thead>\n",
       "  <tbody>\n",
       "  </tbody>\n",
       "</table>\n",
       "</div>"
      ],
      "text/plain": [
       "Empty DataFrame\n",
       "Columns: [actor, revenue]\n",
       "Index: []"
      ]
     },
     "execution_count": 82,
     "metadata": {},
     "output_type": "execute_result"
    }
   ],
   "source": [
    "df_2012_actor_revenue_separated = pd.DataFrame({'actor':[], 'revenue':[]})\n",
    "df_2012_actor_revenue_separated"
   ]
  },
  {
   "cell_type": "code",
   "execution_count": 83,
   "metadata": {},
   "outputs": [],
   "source": [
    "k = 0\n",
    "for i, j in df_2012_actor_revenue.iterrows():\n",
    "    for actor in j[0].split('|'):\n",
    "        df_2012_actor_revenue_separated.loc[k] = [actor, j[1]]\n",
    "        k += 1 "
   ]
  },
  {
   "cell_type": "code",
   "execution_count": 84,
   "metadata": {},
   "outputs": [
    {
     "data": {
      "text/html": [
       "<div>\n",
       "<style scoped>\n",
       "    .dataframe tbody tr th:only-of-type {\n",
       "        vertical-align: middle;\n",
       "    }\n",
       "\n",
       "    .dataframe tbody tr th {\n",
       "        vertical-align: top;\n",
       "    }\n",
       "\n",
       "    .dataframe thead th {\n",
       "        text-align: right;\n",
       "    }\n",
       "</style>\n",
       "<table border=\"1\" class=\"dataframe\">\n",
       "  <thead>\n",
       "    <tr style=\"text-align: right;\">\n",
       "      <th></th>\n",
       "      <th>actor</th>\n",
       "      <th>revenue</th>\n",
       "    </tr>\n",
       "  </thead>\n",
       "  <tbody>\n",
       "    <tr>\n",
       "      <td>0</td>\n",
       "      <td>Robert Downey Jr.</td>\n",
       "      <td>1.519558e+09</td>\n",
       "    </tr>\n",
       "    <tr>\n",
       "      <td>1</td>\n",
       "      <td>Chris Evans</td>\n",
       "      <td>1.519558e+09</td>\n",
       "    </tr>\n",
       "    <tr>\n",
       "      <td>2</td>\n",
       "      <td>Mark Ruffalo</td>\n",
       "      <td>1.519558e+09</td>\n",
       "    </tr>\n",
       "    <tr>\n",
       "      <td>3</td>\n",
       "      <td>Chris Hemsworth</td>\n",
       "      <td>1.519558e+09</td>\n",
       "    </tr>\n",
       "    <tr>\n",
       "      <td>4</td>\n",
       "      <td>Scarlett Johansson</td>\n",
       "      <td>1.519558e+09</td>\n",
       "    </tr>\n",
       "  </tbody>\n",
       "</table>\n",
       "</div>"
      ],
      "text/plain": [
       "                actor       revenue\n",
       "0   Robert Downey Jr.  1.519558e+09\n",
       "1         Chris Evans  1.519558e+09\n",
       "2        Mark Ruffalo  1.519558e+09\n",
       "3     Chris Hemsworth  1.519558e+09\n",
       "4  Scarlett Johansson  1.519558e+09"
      ]
     },
     "execution_count": 84,
     "metadata": {},
     "output_type": "execute_result"
    }
   ],
   "source": [
    "df_2012_actor_revenue_separated.head()"
   ]
  },
  {
   "cell_type": "code",
   "execution_count": 85,
   "metadata": {},
   "outputs": [
    {
     "data": {
      "text/plain": [
       "actor\n",
       "Chris Hemsworth    2.027451e+09\n",
       "Name: revenue, dtype: float64"
      ]
     },
     "execution_count": 85,
     "metadata": {},
     "output_type": "execute_result"
    }
   ],
   "source": [
    "df_2012_actor_revenue_separated.groupby('actor').revenue.sum().sort_values().tail(1)"
   ]
  },
  {
   "cell_type": "code",
   "execution_count": 86,
   "metadata": {},
   "outputs": [
    {
     "data": {
      "text/plain": [
       "'Chris Hemsworth'"
      ]
     },
     "execution_count": 86,
     "metadata": {},
     "output_type": "execute_result"
    }
   ],
   "source": [
    "my_answer_15 = df_2012_actor_revenue_separated.groupby('actor').revenue.sum().sort_values().tail(1).index[0]\n",
    "my_answer_15"
   ]
  },
  {
   "cell_type": "code",
   "execution_count": 87,
   "metadata": {},
   "outputs": [
    {
     "data": {
      "text/plain": [
       "'3. Chris Hemsworth'"
      ]
     },
     "execution_count": 87,
     "metadata": {},
     "output_type": "execute_result"
    }
   ],
   "source": [
    "answer_to(answers, str(task_number), option_search(answer_options_15, my_answer_15))\n",
    "\n",
    "answers[str(task_number)]"
   ]
  },
  {
   "cell_type": "markdown",
   "metadata": {
    "colab_type": "text",
    "id": "mWHyyL7QVp_j"
   },
   "source": [
    "# 16. Какой актер снялся в большем количестве высокобюджетных фильмов?"
   ]
  },
  {
   "cell_type": "code",
   "execution_count": 88,
   "metadata": {},
   "outputs": [],
   "source": [
    "task_number = 16\n",
    "answer_options_16 = [[\"Tom Cruise\"],\n",
    "                    [\"Mark Wahlberg\"],\n",
    "                    [\"Matt Damon\"],\n",
    "                    [\"Angelina Jolie\"],\n",
    "                    [\"Adam Sandler\"]]"
   ]
  },
  {
   "cell_type": "code",
   "execution_count": 89,
   "metadata": {
    "colab": {},
    "colab_type": "code",
    "id": "qQtmHKTFVp_k"
   },
   "outputs": [
    {
     "data": {
      "text/plain": [
       "'Matt Damon'"
      ]
     },
     "execution_count": 89,
     "metadata": {},
     "output_type": "execute_result"
    }
   ],
   "source": [
    "my_answer_16 = pd.Series(data[data.budget > data.budget.mean()].cast.str.split('|').sum()).value_counts().index[0]\n",
    "my_answer_16"
   ]
  },
  {
   "cell_type": "code",
   "execution_count": 90,
   "metadata": {},
   "outputs": [
    {
     "data": {
      "text/plain": [
       "'3. Matt Damon'"
      ]
     },
     "execution_count": 90,
     "metadata": {},
     "output_type": "execute_result"
    }
   ],
   "source": [
    "answer_to(answers, str(task_number), option_search(answer_options_16, my_answer_16))\n",
    "\n",
    "answers[str(task_number)]"
   ]
  },
  {
   "cell_type": "markdown",
   "metadata": {
    "colab_type": "text",
    "id": "NIh6AaW5Vp_n"
   },
   "source": [
    "# 17. В фильмах какого жанра больше всего снимался Nicolas Cage? "
   ]
  },
  {
   "cell_type": "code",
   "execution_count": 91,
   "metadata": {},
   "outputs": [],
   "source": [
    "task_number = 17\n",
    "answer_options_17 = [[\"Drama\"],\n",
    "                    [\"Action\"],\n",
    "                    [\"Thriller\"],\n",
    "                    [\"Adventure\"],\n",
    "                    [\"Crime\"]]"
   ]
  },
  {
   "cell_type": "code",
   "execution_count": 92,
   "metadata": {},
   "outputs": [
    {
     "data": {
      "text/plain": [
       "Action             17\n",
       "Thriller           15\n",
       "Drama              12\n",
       "Crime              10\n",
       "Fantasy             8\n",
       "Adventure           7\n",
       "Comedy              6\n",
       "Science Fiction     4\n",
       "Mystery             3\n",
       "Family              3\n",
       "Animation           3\n",
       "History             2\n",
       "Horror              1\n",
       "War                 1\n",
       "Romance             1\n",
       "dtype: int64"
      ]
     },
     "execution_count": 92,
     "metadata": {},
     "output_type": "execute_result"
    }
   ],
   "source": [
    "pd.Series(data[data.cast.str.contains(\"Nicolas Cage\", na=False)].genres.str.split('|').sum()).value_counts()"
   ]
  },
  {
   "cell_type": "code",
   "execution_count": 93,
   "metadata": {
    "colab": {},
    "colab_type": "code",
    "id": "H74SJDIBVp_n"
   },
   "outputs": [
    {
     "data": {
      "text/plain": [
       "'Action'"
      ]
     },
     "execution_count": 93,
     "metadata": {},
     "output_type": "execute_result"
    }
   ],
   "source": [
    "my_answer_17 = pd.Series(data[data.cast.str.contains(\"Nicolas Cage\", na=False)].genres.str.split('|').sum()).\\\n",
    "                value_counts().head(1).index[0]\n",
    "my_answer_17"
   ]
  },
  {
   "cell_type": "code",
   "execution_count": 94,
   "metadata": {},
   "outputs": [
    {
     "data": {
      "text/plain": [
       "'2. Action'"
      ]
     },
     "execution_count": 94,
     "metadata": {},
     "output_type": "execute_result"
    }
   ],
   "source": [
    "answer_to(answers, str(task_number), option_search(answer_options_17, my_answer_17))\n",
    "\n",
    "answers[str(task_number)]"
   ]
  },
  {
   "cell_type": "markdown",
   "metadata": {
    "colab_type": "text",
    "id": "RqOmPRfWVp_q"
   },
   "source": [
    "# 18. Самый убыточный фильм от Paramount Pictures"
   ]
  },
  {
   "cell_type": "code",
   "execution_count": 95,
   "metadata": {},
   "outputs": [],
   "source": [
    "task_number = 18\n",
    "answer_options_18 = [[\"K-19: The Widowmaker (tt0267626)\"],\n",
    "                    [\"Next (tt0435705)\"],\n",
    "                    [\"Twisted (tt0315297)\"],\n",
    "                    [\"The Love Guru (tt0811138)\"],\n",
    "                    [\"The Fighter (tt0964517)\"]]"
   ]
  },
  {
   "cell_type": "code",
   "execution_count": 96,
   "metadata": {
    "colab": {},
    "colab_type": "code",
    "id": "9E_B0Y96Vp_r"
   },
   "outputs": [
    {
     "data": {
      "text/plain": [
       "925    K-19: The Widowmaker\n",
       "Name: original_title, dtype: object"
      ]
     },
     "execution_count": 96,
     "metadata": {},
     "output_type": "execute_result"
    }
   ],
   "source": [
    "paramount_pict = data[data.production_companies.str.contains(\"Paramount Pictures\")]\n",
    "paramount_pict[paramount_pict.profit == paramount_pict.profit.min()].original_title"
   ]
  },
  {
   "cell_type": "code",
   "execution_count": 97,
   "metadata": {},
   "outputs": [
    {
     "data": {
      "text/plain": [
       "'K-19: The Widowmaker (tt0267626)'"
      ]
     },
     "execution_count": 97,
     "metadata": {},
     "output_type": "execute_result"
    }
   ],
   "source": [
    "my_answer_18 = paramount_pict[paramount_pict.profit == paramount_pict.profit.min()].original_title.iloc[0] + \\\n",
    "                \" (\" + paramount_pict[paramount_pict.profit == paramount_pict.profit.min()].imdb_id.iloc[0] + \")\"\n",
    "my_answer_18"
   ]
  },
  {
   "cell_type": "code",
   "execution_count": 98,
   "metadata": {},
   "outputs": [
    {
     "data": {
      "text/plain": [
       "'1. K-19: The Widowmaker (tt0267626)'"
      ]
     },
     "execution_count": 98,
     "metadata": {},
     "output_type": "execute_result"
    }
   ],
   "source": [
    "answer_to(answers, str(task_number), option_search(answer_options_18, my_answer_18))\n",
    "\n",
    "answers[str(task_number)]"
   ]
  },
  {
   "cell_type": "markdown",
   "metadata": {
    "colab_type": "text",
    "id": "vS8Ur6ddVp_u"
   },
   "source": [
    "# 19. Какой год стал самым успешным по суммарным кассовым сборам?"
   ]
  },
  {
   "cell_type": "code",
   "execution_count": 99,
   "metadata": {},
   "outputs": [],
   "source": [
    "task_number = 19\n",
    "answer_options_19 = [['2014'],\n",
    "                    ['2008'],\n",
    "                    ['2012'],\n",
    "                    ['2002'],\n",
    "                    ['2015']]"
   ]
  },
  {
   "cell_type": "code",
   "execution_count": 100,
   "metadata": {
    "colab": {},
    "colab_type": "code",
    "id": "Dnbt4GdIVp_v"
   },
   "outputs": [
    {
     "data": {
      "text/plain": [
       "release_year\n",
       "2015    25449202382\n",
       "Name: revenue, dtype: int64"
      ]
     },
     "execution_count": 100,
     "metadata": {},
     "output_type": "execute_result"
    }
   ],
   "source": [
    "data.groupby('release_year').revenue.sum()[(data.groupby('release_year').revenue.sum()) == \n",
    "                                           (data.groupby('release_year').revenue.sum().max())]"
   ]
  },
  {
   "cell_type": "code",
   "execution_count": 101,
   "metadata": {},
   "outputs": [
    {
     "data": {
      "text/plain": [
       "2015"
      ]
     },
     "execution_count": 101,
     "metadata": {},
     "output_type": "execute_result"
    }
   ],
   "source": [
    "my_answer_19 = data.groupby('release_year').revenue.sum()[(data.groupby('release_year').revenue.sum()) == \n",
    "                                           (data.groupby('release_year').revenue.sum().max())].index[0]\n",
    "my_answer_19"
   ]
  },
  {
   "cell_type": "code",
   "execution_count": 102,
   "metadata": {},
   "outputs": [
    {
     "data": {
      "text/plain": [
       "'5. 2015'"
      ]
     },
     "execution_count": 102,
     "metadata": {},
     "output_type": "execute_result"
    }
   ],
   "source": [
    "answer_to(answers, str(task_number), option_search(answer_options_19, str(my_answer_19)))\n",
    "\n",
    "answers[str(task_number)]"
   ]
  },
  {
   "cell_type": "markdown",
   "metadata": {
    "colab_type": "text",
    "id": "JAzJh4QAVp_z"
   },
   "source": [
    "# 20. Какой самый прибыльный год для студии Warner Bros?"
   ]
  },
  {
   "cell_type": "code",
   "execution_count": 103,
   "metadata": {},
   "outputs": [],
   "source": [
    "task_number = 20\n",
    "answer_options_20 = [['2014'],\n",
    "                    ['2008'],\n",
    "                    ['2012'],\n",
    "                    ['2010'],\n",
    "                    ['2015']]"
   ]
  },
  {
   "cell_type": "code",
   "execution_count": 104,
   "metadata": {
    "colab": {},
    "colab_type": "code",
    "id": "wgVu02DEVp_0"
   },
   "outputs": [
    {
     "data": {
      "text/plain": [
       "release_year\n",
       "2014    2295464519\n",
       "Name: profit, dtype: int64"
      ]
     },
     "execution_count": 104,
     "metadata": {},
     "output_type": "execute_result"
    }
   ],
   "source": [
    "warner_bros = data[data.production_companies.str.contains(\"Warner Bros\")]\n",
    "warner_bros.groupby('release_year').profit.sum()[warner_bros.groupby('release_year').profit.sum() == \n",
    "                                                 warner_bros.groupby('release_year').profit.sum().max()]"
   ]
  },
  {
   "cell_type": "code",
   "execution_count": 105,
   "metadata": {},
   "outputs": [
    {
     "data": {
      "text/plain": [
       "2014"
      ]
     },
     "execution_count": 105,
     "metadata": {},
     "output_type": "execute_result"
    }
   ],
   "source": [
    "my_answer_20 = warner_bros.groupby('release_year').profit.sum()[warner_bros.groupby('release_year').profit.sum() == \n",
    "                                                 warner_bros.groupby('release_year').profit.sum().max()].index[0]\n",
    "my_answer_20"
   ]
  },
  {
   "cell_type": "code",
   "execution_count": 106,
   "metadata": {},
   "outputs": [
    {
     "data": {
      "text/plain": [
       "'1. 2014'"
      ]
     },
     "execution_count": 106,
     "metadata": {},
     "output_type": "execute_result"
    }
   ],
   "source": [
    "answer_to(answers, str(task_number), option_search(answer_options_20, str(my_answer_20)))\n",
    "\n",
    "answers[str(task_number)]"
   ]
  },
  {
   "cell_type": "markdown",
   "metadata": {
    "colab_type": "text",
    "id": "8Im1S2HRVp_4"
   },
   "source": [
    "# 21. В каком месяце за все годы суммарно вышло больше всего фильмов?"
   ]
  },
  {
   "cell_type": "code",
   "execution_count": 107,
   "metadata": {},
   "outputs": [],
   "source": [
    "task_number = 21\n",
    "answer_options_21 = [[\"Январь\"],\n",
    "                    [\"Июнь\"],\n",
    "                    [\"Декабрь\"],\n",
    "                    [\"Сентябрь\"],\n",
    "                    [\"Май\"]]"
   ]
  },
  {
   "cell_type": "code",
   "execution_count": 108,
   "metadata": {
    "colab": {},
    "colab_type": "code",
    "id": "lev6TH7gVp_4"
   },
   "outputs": [
    {
     "data": {
      "text/plain": [
       "9    227\n",
       "Name: release_date, dtype: int64"
      ]
     },
     "execution_count": 108,
     "metadata": {},
     "output_type": "execute_result"
    }
   ],
   "source": [
    "data.release_date.str.split('/', n=1).str[0].value_counts(sort=True).head(1)"
   ]
  },
  {
   "cell_type": "code",
   "execution_count": 109,
   "metadata": {},
   "outputs": [
    {
     "data": {
      "text/plain": [
       "'9'"
      ]
     },
     "execution_count": 109,
     "metadata": {},
     "output_type": "execute_result"
    }
   ],
   "source": [
    "my_answer_21 = data.release_date.str.split('/', n=1).str[0].value_counts(sort=True).head(1).index[0]\n",
    "my_answer_21"
   ]
  },
  {
   "cell_type": "code",
   "execution_count": 110,
   "metadata": {},
   "outputs": [
    {
     "data": {
      "text/plain": [
       "'4. Сентябрь'"
      ]
     },
     "execution_count": 110,
     "metadata": {},
     "output_type": "execute_result"
    }
   ],
   "source": [
    "answer_to(answers, str(task_number), option_search(answer_options_21, month_convert(my_answer_21)))\n",
    "\n",
    "answers[str(task_number)]"
   ]
  },
  {
   "cell_type": "markdown",
   "metadata": {
    "colab_type": "text",
    "id": "uAJsZ_NeVp_7"
   },
   "source": [
    "# 22. Сколько суммарно вышло фильмов летом? (за июнь, июль, август)"
   ]
  },
  {
   "cell_type": "code",
   "execution_count": 111,
   "metadata": {},
   "outputs": [],
   "source": [
    "task_number = 22\n",
    "answer_options_22 = [['345'],\n",
    "                    ['450'],\n",
    "                    ['478'],\n",
    "                    ['523'],\n",
    "                    ['381']]"
   ]
  },
  {
   "cell_type": "code",
   "execution_count": 112,
   "metadata": {
    "colab": {},
    "colab_type": "code",
    "id": "Aa-hEREoVp_8"
   },
   "outputs": [
    {
     "data": {
      "text/plain": [
       "450"
      ]
     },
     "execution_count": 112,
     "metadata": {},
     "output_type": "execute_result"
    }
   ],
   "source": [
    "my_answer_22 = data.release_date.str.split('/', n=1).str[0].value_counts().loc['6'] + \\\n",
    "    data.release_date.str.split('/', n=1).str[0].value_counts().loc['7'] + \\\n",
    "    data.release_date.str.split('/', n=1).str[0].value_counts().loc['8']\n",
    "my_answer_22"
   ]
  },
  {
   "cell_type": "code",
   "execution_count": 113,
   "metadata": {},
   "outputs": [
    {
     "data": {
      "text/plain": [
       "'2. 450'"
      ]
     },
     "execution_count": 113,
     "metadata": {},
     "output_type": "execute_result"
    }
   ],
   "source": [
    "answer_to(answers, str(task_number), option_search(answer_options_22, str(my_answer_22)))\n",
    "\n",
    "answers[str(task_number)]"
   ]
  },
  {
   "cell_type": "markdown",
   "metadata": {
    "colab_type": "text",
    "id": "G94ppOY1VqAA"
   },
   "source": [
    "# 23. Для какого режиссера зима – самое продуктивное время года? "
   ]
  },
  {
   "cell_type": "code",
   "execution_count": 114,
   "metadata": {},
   "outputs": [],
   "source": [
    "task_number = 23\n",
    "answer_options_23 = [[\"Steven Soderbergh\"],\n",
    "                    [\"Christopher Nolan\"],\n",
    "                    [\"Clint Eastwood\"],\n",
    "                    [\"Ridley Scott\"],\n",
    "                    [\"Peter Jackson\"]]"
   ]
  },
  {
   "cell_type": "code",
   "execution_count": 115,
   "metadata": {
    "colab": {},
    "colab_type": "code",
    "id": "RhNTsamuVqAB"
   },
   "outputs": [
    {
     "data": {
      "text/plain": [
       "Peter Jackson    7\n",
       "dtype: int64"
      ]
     },
     "execution_count": 115,
     "metadata": {},
     "output_type": "execute_result"
    }
   ],
   "source": [
    "pd.Series(data.director[(data.release_date.str.split('/', n=1).str[0] == '1') | \n",
    "     (data.release_date.str.split('/', n=1).str[0] == '2') | \n",
    "     (data.release_date.str.split('/', n=1).str[0] == '12') ].str.split('|').sum()).value_counts().head(1)"
   ]
  },
  {
   "cell_type": "code",
   "execution_count": 116,
   "metadata": {},
   "outputs": [
    {
     "data": {
      "text/plain": [
       "'Peter Jackson'"
      ]
     },
     "execution_count": 116,
     "metadata": {},
     "output_type": "execute_result"
    }
   ],
   "source": [
    "my_answer_23 = pd.Series(data.director[(data.release_date.str.split('/', n=1).str[0] == '1') | \n",
    "     (data.release_date.str.split('/', n=1).str[0] == '2') | \n",
    "     (data.release_date.str.split('/', n=1).str[0] == '12') ].str.split('|').sum()).value_counts().head(1).index[0]\n",
    "my_answer_23"
   ]
  },
  {
   "cell_type": "code",
   "execution_count": 117,
   "metadata": {},
   "outputs": [
    {
     "data": {
      "text/plain": [
       "'5. Peter Jackson'"
      ]
     },
     "execution_count": 117,
     "metadata": {},
     "output_type": "execute_result"
    }
   ],
   "source": [
    "answer_to(answers, str(task_number), option_search(answer_options_23, my_answer_23))\n",
    "\n",
    "answers[str(task_number)]"
   ]
  },
  {
   "cell_type": "markdown",
   "metadata": {
    "colab_type": "text",
    "id": "RBo0JVjVVqAF"
   },
   "source": [
    "# 24. Какая студия дает самые длинные названия своим фильмам по количеству символов?"
   ]
  },
  {
   "cell_type": "code",
   "execution_count": 118,
   "metadata": {},
   "outputs": [],
   "source": [
    "task_number = 24\n",
    "answer_options_24 = [[\"Universal Pictures (Universal)\"],\n",
    "                    [\"Warner Bros.\"],\n",
    "                    [\"Jim Henson Company, The\"],\n",
    "                    [\"Paramount Pictures\"],\n",
    "                    [\"Four By Two Productions\"]]"
   ]
  },
  {
   "cell_type": "code",
   "execution_count": 119,
   "metadata": {},
   "outputs": [
    {
     "data": {
      "text/html": [
       "<div>\n",
       "<style scoped>\n",
       "    .dataframe tbody tr th:only-of-type {\n",
       "        vertical-align: middle;\n",
       "    }\n",
       "\n",
       "    .dataframe tbody tr th {\n",
       "        vertical-align: top;\n",
       "    }\n",
       "\n",
       "    .dataframe thead th {\n",
       "        text-align: right;\n",
       "    }\n",
       "</style>\n",
       "<table border=\"1\" class=\"dataframe\">\n",
       "  <thead>\n",
       "    <tr style=\"text-align: right;\">\n",
       "      <th></th>\n",
       "      <th>original_title</th>\n",
       "      <th>production_companies</th>\n",
       "      <th>length</th>\n",
       "    </tr>\n",
       "  </thead>\n",
       "  <tbody>\n",
       "    <tr>\n",
       "      <td>1448</td>\n",
       "      <td>Borat: Cultural Learnings of America for Make ...</td>\n",
       "      <td>Twentieth Century Fox Film Corporation|Four By...</td>\n",
       "      <td>83</td>\n",
       "    </tr>\n",
       "  </tbody>\n",
       "</table>\n",
       "</div>"
      ],
      "text/plain": [
       "                                         original_title  \\\n",
       "1448  Borat: Cultural Learnings of America for Make ...   \n",
       "\n",
       "                                   production_companies  length  \n",
       "1448  Twentieth Century Fox Film Corporation|Four By...      83  "
      ]
     },
     "execution_count": 119,
     "metadata": {},
     "output_type": "execute_result"
    }
   ],
   "source": [
    "df_company_title = pd.DataFrame(data[['original_title', 'production_companies']], \n",
    "                                columns = ['original_title', 'production_companies'])\n",
    "df_company_title['length'] = df_company_title['original_title'].apply(lambda x: len(x))\n",
    "df_company_title[df_company_title.length == df_company_title.length.max()]\n"
   ]
  },
  {
   "cell_type": "code",
   "execution_count": 120,
   "metadata": {},
   "outputs": [
    {
     "data": {
      "text/plain": [
       "['Twentieth Century Fox Film Corporation', 'Four By Two Productions']"
      ]
     },
     "execution_count": 120,
     "metadata": {},
     "output_type": "execute_result"
    }
   ],
   "source": [
    "df_company_title[df_company_title.length == df_company_title.length.max()].production_companies.iloc[0].split('|')"
   ]
  },
  {
   "cell_type": "code",
   "execution_count": 121,
   "metadata": {},
   "outputs": [
    {
     "data": {
      "text/plain": [
       "['Twentieth Century Fox Film Corporation', 'Four By Two Productions']"
      ]
     },
     "execution_count": 121,
     "metadata": {},
     "output_type": "execute_result"
    }
   ],
   "source": [
    "my_answer_24 = df_company_title[df_company_title.length == df_company_title.length.max()].production_companies.\\\n",
    "                iloc[0].split('|')\n",
    "my_answer_24"
   ]
  },
  {
   "cell_type": "code",
   "execution_count": 122,
   "metadata": {},
   "outputs": [
    {
     "data": {
      "text/plain": [
       "'5. Four By Two Productions'"
      ]
     },
     "execution_count": 122,
     "metadata": {},
     "output_type": "execute_result"
    }
   ],
   "source": [
    "answer_to(answers, str(task_number), option_search(answer_options_24, my_answer_24))\n",
    "\n",
    "answers[str(task_number)]"
   ]
  },
  {
   "cell_type": "markdown",
   "metadata": {
    "colab_type": "text",
    "id": "9G0hbvR7VqAK"
   },
   "source": [
    "# 25. Описание фильмов какой студии в среднем самые длинные по количеству слов?"
   ]
  },
  {
   "cell_type": "code",
   "execution_count": 123,
   "metadata": {},
   "outputs": [],
   "source": [
    "task_number = 25\n",
    "answer_options_25 = [[\"Universal Pictures\"],\n",
    "                    [\"Warner Bros\"],\n",
    "                    [\"Midnight Picture Show\"],\n",
    "                    [\"Paramount Pictures\"],\n",
    "                    [\"Total Entertainment\"]]"
   ]
  },
  {
   "cell_type": "code",
   "execution_count": 124,
   "metadata": {
    "colab": {},
    "colab_type": "code",
    "id": "Ge2GsLNxVqAK"
   },
   "outputs": [],
   "source": [
    "df_company_overview = pd.DataFrame(data[['overview', 'production_companies']], \n",
    "                                columns = ['overview', 'production_companies'])\n"
   ]
  },
  {
   "cell_type": "code",
   "execution_count": 125,
   "metadata": {},
   "outputs": [
    {
     "data": {
      "text/html": [
       "<div>\n",
       "<style scoped>\n",
       "    .dataframe tbody tr th:only-of-type {\n",
       "        vertical-align: middle;\n",
       "    }\n",
       "\n",
       "    .dataframe tbody tr th {\n",
       "        vertical-align: top;\n",
       "    }\n",
       "\n",
       "    .dataframe thead th {\n",
       "        text-align: right;\n",
       "    }\n",
       "</style>\n",
       "<table border=\"1\" class=\"dataframe\">\n",
       "  <thead>\n",
       "    <tr style=\"text-align: right;\">\n",
       "      <th></th>\n",
       "      <th>overview</th>\n",
       "      <th>production_companies</th>\n",
       "      <th>words</th>\n",
       "    </tr>\n",
       "  </thead>\n",
       "  <tbody>\n",
       "    <tr>\n",
       "      <td>0</td>\n",
       "      <td>Twenty-two years after the events of Jurassic ...</td>\n",
       "      <td>Universal Studios|Amblin Entertainment|Legenda...</td>\n",
       "      <td>26</td>\n",
       "    </tr>\n",
       "    <tr>\n",
       "      <td>1</td>\n",
       "      <td>An apocalyptic story set in the furthest reach...</td>\n",
       "      <td>Village Roadshow Pictures|Kennedy Miller Produ...</td>\n",
       "      <td>110</td>\n",
       "    </tr>\n",
       "    <tr>\n",
       "      <td>2</td>\n",
       "      <td>Beatrice Prior must confront her inner demons ...</td>\n",
       "      <td>Summit Entertainment|Mandeville Films|Red Wago...</td>\n",
       "      <td>22</td>\n",
       "    </tr>\n",
       "    <tr>\n",
       "      <td>3</td>\n",
       "      <td>Thirty years after defeating the Galactic Empi...</td>\n",
       "      <td>Lucasfilm|Truenorth Productions|Bad Robot</td>\n",
       "      <td>26</td>\n",
       "    </tr>\n",
       "    <tr>\n",
       "      <td>4</td>\n",
       "      <td>Deckard Shaw seeks revenge against Dominic Tor...</td>\n",
       "      <td>Universal Pictures|Original Film|Media Rights ...</td>\n",
       "      <td>14</td>\n",
       "    </tr>\n",
       "  </tbody>\n",
       "</table>\n",
       "</div>"
      ],
      "text/plain": [
       "                                            overview  \\\n",
       "0  Twenty-two years after the events of Jurassic ...   \n",
       "1  An apocalyptic story set in the furthest reach...   \n",
       "2  Beatrice Prior must confront her inner demons ...   \n",
       "3  Thirty years after defeating the Galactic Empi...   \n",
       "4  Deckard Shaw seeks revenge against Dominic Tor...   \n",
       "\n",
       "                                production_companies  words  \n",
       "0  Universal Studios|Amblin Entertainment|Legenda...     26  \n",
       "1  Village Roadshow Pictures|Kennedy Miller Produ...    110  \n",
       "2  Summit Entertainment|Mandeville Films|Red Wago...     22  \n",
       "3          Lucasfilm|Truenorth Productions|Bad Robot     26  \n",
       "4  Universal Pictures|Original Film|Media Rights ...     14  "
      ]
     },
     "execution_count": 125,
     "metadata": {},
     "output_type": "execute_result"
    }
   ],
   "source": [
    "df_company_overview['words'] = df_company_overview['overview'].apply(lambda x: len(x.split(' ')))\n",
    "df_company_overview.head()"
   ]
  },
  {
   "cell_type": "code",
   "execution_count": 126,
   "metadata": {},
   "outputs": [
    {
     "data": {
      "text/html": [
       "<div>\n",
       "<style scoped>\n",
       "    .dataframe tbody tr th:only-of-type {\n",
       "        vertical-align: middle;\n",
       "    }\n",
       "\n",
       "    .dataframe tbody tr th {\n",
       "        vertical-align: top;\n",
       "    }\n",
       "\n",
       "    .dataframe thead th {\n",
       "        text-align: right;\n",
       "    }\n",
       "</style>\n",
       "<table border=\"1\" class=\"dataframe\">\n",
       "  <thead>\n",
       "    <tr style=\"text-align: right;\">\n",
       "      <th></th>\n",
       "      <th>production_companies</th>\n",
       "      <th>words</th>\n",
       "    </tr>\n",
       "  </thead>\n",
       "  <tbody>\n",
       "  </tbody>\n",
       "</table>\n",
       "</div>"
      ],
      "text/plain": [
       "Empty DataFrame\n",
       "Columns: [production_companies, words]\n",
       "Index: []"
      ]
     },
     "execution_count": 126,
     "metadata": {},
     "output_type": "execute_result"
    }
   ],
   "source": [
    "df_company_overview_separated = pd.DataFrame({'production_companies':[], 'words':[]})\n",
    "df_company_overview_separated"
   ]
  },
  {
   "cell_type": "code",
   "execution_count": 127,
   "metadata": {},
   "outputs": [],
   "source": [
    "k = 0\n",
    "for i, j in df_company_overview.iterrows():\n",
    "    for company in j[1].split('|'):\n",
    "        df_company_overview_separated.loc[k] = [company, j[2]]\n",
    "        k += 1 "
   ]
  },
  {
   "cell_type": "code",
   "execution_count": 128,
   "metadata": {
    "scrolled": true
   },
   "outputs": [
    {
     "data": {
      "text/html": [
       "<div>\n",
       "<style scoped>\n",
       "    .dataframe tbody tr th:only-of-type {\n",
       "        vertical-align: middle;\n",
       "    }\n",
       "\n",
       "    .dataframe tbody tr th {\n",
       "        vertical-align: top;\n",
       "    }\n",
       "\n",
       "    .dataframe thead th {\n",
       "        text-align: right;\n",
       "    }\n",
       "</style>\n",
       "<table border=\"1\" class=\"dataframe\">\n",
       "  <thead>\n",
       "    <tr style=\"text-align: right;\">\n",
       "      <th></th>\n",
       "      <th>production_companies</th>\n",
       "      <th>words</th>\n",
       "    </tr>\n",
       "  </thead>\n",
       "  <tbody>\n",
       "    <tr>\n",
       "      <td>0</td>\n",
       "      <td>Universal Studios</td>\n",
       "      <td>26.0</td>\n",
       "    </tr>\n",
       "    <tr>\n",
       "      <td>1</td>\n",
       "      <td>Amblin Entertainment</td>\n",
       "      <td>26.0</td>\n",
       "    </tr>\n",
       "    <tr>\n",
       "      <td>2</td>\n",
       "      <td>Legendary Pictures</td>\n",
       "      <td>26.0</td>\n",
       "    </tr>\n",
       "    <tr>\n",
       "      <td>3</td>\n",
       "      <td>Fuji Television Network</td>\n",
       "      <td>26.0</td>\n",
       "    </tr>\n",
       "    <tr>\n",
       "      <td>4</td>\n",
       "      <td>Dentsu</td>\n",
       "      <td>26.0</td>\n",
       "    </tr>\n",
       "    <tr>\n",
       "      <td>5</td>\n",
       "      <td>Village Roadshow Pictures</td>\n",
       "      <td>110.0</td>\n",
       "    </tr>\n",
       "    <tr>\n",
       "      <td>6</td>\n",
       "      <td>Kennedy Miller Productions</td>\n",
       "      <td>110.0</td>\n",
       "    </tr>\n",
       "    <tr>\n",
       "      <td>7</td>\n",
       "      <td>Summit Entertainment</td>\n",
       "      <td>22.0</td>\n",
       "    </tr>\n",
       "    <tr>\n",
       "      <td>8</td>\n",
       "      <td>Mandeville Films</td>\n",
       "      <td>22.0</td>\n",
       "    </tr>\n",
       "    <tr>\n",
       "      <td>9</td>\n",
       "      <td>Red Wagon Entertainment</td>\n",
       "      <td>22.0</td>\n",
       "    </tr>\n",
       "  </tbody>\n",
       "</table>\n",
       "</div>"
      ],
      "text/plain": [
       "         production_companies  words\n",
       "0           Universal Studios   26.0\n",
       "1        Amblin Entertainment   26.0\n",
       "2          Legendary Pictures   26.0\n",
       "3     Fuji Television Network   26.0\n",
       "4                      Dentsu   26.0\n",
       "5   Village Roadshow Pictures  110.0\n",
       "6  Kennedy Miller Productions  110.0\n",
       "7        Summit Entertainment   22.0\n",
       "8            Mandeville Films   22.0\n",
       "9     Red Wagon Entertainment   22.0"
      ]
     },
     "execution_count": 128,
     "metadata": {},
     "output_type": "execute_result"
    }
   ],
   "source": [
    "df_company_overview_separated.head(10)"
   ]
  },
  {
   "cell_type": "code",
   "execution_count": 129,
   "metadata": {},
   "outputs": [
    {
     "data": {
      "text/plain": [
       "production_companies\n",
       "Midnight Picture Show    175.0\n",
       "Name: words, dtype: float64"
      ]
     },
     "execution_count": 129,
     "metadata": {},
     "output_type": "execute_result"
    }
   ],
   "source": [
    "df_company_overview_separated.groupby('production_companies').words.mean().sort_values().tail(1)"
   ]
  },
  {
   "cell_type": "code",
   "execution_count": 130,
   "metadata": {},
   "outputs": [
    {
     "data": {
      "text/plain": [
       "'Midnight Picture Show'"
      ]
     },
     "execution_count": 130,
     "metadata": {},
     "output_type": "execute_result"
    }
   ],
   "source": [
    "my_answer_25 = df_company_overview_separated.groupby('production_companies').words.mean().sort_values().tail(1).index[0]\n",
    "my_answer_25"
   ]
  },
  {
   "cell_type": "code",
   "execution_count": 131,
   "metadata": {},
   "outputs": [
    {
     "data": {
      "text/plain": [
       "'3. Midnight Picture Show'"
      ]
     },
     "execution_count": 131,
     "metadata": {},
     "output_type": "execute_result"
    }
   ],
   "source": [
    "answer_to(answers, str(task_number), option_search(answer_options_25, my_answer_25))\n",
    "\n",
    "answers[str(task_number)]"
   ]
  },
  {
   "cell_type": "markdown",
   "metadata": {
    "colab_type": "text",
    "id": "FJ1AFt90VqAP"
   },
   "source": [
    "# 26. Какие фильмы входят в 1 процент лучших по рейтингу? \n",
    "по vote_average"
   ]
  },
  {
   "cell_type": "code",
   "execution_count": 132,
   "metadata": {},
   "outputs": [],
   "source": [
    "task_number = 26\n",
    "answer_options_26 = [['Inside Out', 'The Dark Knight', '12 Years a Slave'],\n",
    "                ['BloodRayne', 'The Adventures of Rocky & Bullwinkle'],\n",
    "                ['Batman Begins', 'The Lord of the Rings: The Return of the King', 'Upside Down'],\n",
    "                ['300', 'Lucky Number Slevin', 'Kill Bill: Vol. 1'],\n",
    "                ['Upside Down', 'Inside Out', 'Iron Man']]\n",
    "                "
   ]
  },
  {
   "cell_type": "code",
   "execution_count": 133,
   "metadata": {},
   "outputs": [
    {
     "data": {
      "text/html": [
       "<div>\n",
       "<style scoped>\n",
       "    .dataframe tbody tr th:only-of-type {\n",
       "        vertical-align: middle;\n",
       "    }\n",
       "\n",
       "    .dataframe tbody tr th {\n",
       "        vertical-align: top;\n",
       "    }\n",
       "\n",
       "    .dataframe thead th {\n",
       "        text-align: right;\n",
       "    }\n",
       "</style>\n",
       "<table border=\"1\" class=\"dataframe\">\n",
       "  <thead>\n",
       "    <tr style=\"text-align: right;\">\n",
       "      <th></th>\n",
       "      <th>original_title</th>\n",
       "      <th>vote_average</th>\n",
       "    </tr>\n",
       "  </thead>\n",
       "  <tbody>\n",
       "    <tr>\n",
       "      <td>9</td>\n",
       "      <td>Inside Out</td>\n",
       "      <td>8.0</td>\n",
       "    </tr>\n",
       "    <tr>\n",
       "      <td>34</td>\n",
       "      <td>Room</td>\n",
       "      <td>8.0</td>\n",
       "    </tr>\n",
       "    <tr>\n",
       "      <td>118</td>\n",
       "      <td>Interstellar</td>\n",
       "      <td>8.0</td>\n",
       "    </tr>\n",
       "    <tr>\n",
       "      <td>119</td>\n",
       "      <td>Guardians of the Galaxy</td>\n",
       "      <td>7.9</td>\n",
       "    </tr>\n",
       "    <tr>\n",
       "      <td>125</td>\n",
       "      <td>The Imitation Game</td>\n",
       "      <td>8.0</td>\n",
       "    </tr>\n",
       "    <tr>\n",
       "      <td>128</td>\n",
       "      <td>Gone Girl</td>\n",
       "      <td>7.9</td>\n",
       "    </tr>\n",
       "    <tr>\n",
       "      <td>138</td>\n",
       "      <td>The Grand Budapest Hotel</td>\n",
       "      <td>7.9</td>\n",
       "    </tr>\n",
       "    <tr>\n",
       "      <td>155</td>\n",
       "      <td>The Theory of Everything</td>\n",
       "      <td>7.8</td>\n",
       "    </tr>\n",
       "    <tr>\n",
       "      <td>283</td>\n",
       "      <td>Mr. Nobody</td>\n",
       "      <td>7.8</td>\n",
       "    </tr>\n",
       "    <tr>\n",
       "      <td>370</td>\n",
       "      <td>Inception</td>\n",
       "      <td>7.9</td>\n",
       "    </tr>\n",
       "    <tr>\n",
       "      <td>599</td>\n",
       "      <td>The Dark Knight</td>\n",
       "      <td>8.1</td>\n",
       "    </tr>\n",
       "    <tr>\n",
       "      <td>863</td>\n",
       "      <td>The Lord of the Rings: The Two Towers</td>\n",
       "      <td>7.8</td>\n",
       "    </tr>\n",
       "    <tr>\n",
       "      <td>872</td>\n",
       "      <td>The Pianist</td>\n",
       "      <td>7.9</td>\n",
       "    </tr>\n",
       "    <tr>\n",
       "      <td>1081</td>\n",
       "      <td>The Lord of the Rings: The Return of the King</td>\n",
       "      <td>7.9</td>\n",
       "    </tr>\n",
       "    <tr>\n",
       "      <td>1183</td>\n",
       "      <td>The Wolf of Wall Street</td>\n",
       "      <td>7.9</td>\n",
       "    </tr>\n",
       "    <tr>\n",
       "      <td>1191</td>\n",
       "      <td>12 Years a Slave</td>\n",
       "      <td>7.9</td>\n",
       "    </tr>\n",
       "    <tr>\n",
       "      <td>1563</td>\n",
       "      <td>Eternal Sunshine of the Spotless Mind</td>\n",
       "      <td>7.8</td>\n",
       "    </tr>\n",
       "    <tr>\n",
       "      <td>1688</td>\n",
       "      <td>There Will Be Blood</td>\n",
       "      <td>7.8</td>\n",
       "    </tr>\n",
       "    <tr>\n",
       "      <td>1800</td>\n",
       "      <td>Memento</td>\n",
       "      <td>7.9</td>\n",
       "    </tr>\n",
       "  </tbody>\n",
       "</table>\n",
       "</div>"
      ],
      "text/plain": [
       "                                     original_title  vote_average\n",
       "9                                        Inside Out           8.0\n",
       "34                                             Room           8.0\n",
       "118                                    Interstellar           8.0\n",
       "119                         Guardians of the Galaxy           7.9\n",
       "125                              The Imitation Game           8.0\n",
       "128                                       Gone Girl           7.9\n",
       "138                        The Grand Budapest Hotel           7.9\n",
       "155                        The Theory of Everything           7.8\n",
       "283                                      Mr. Nobody           7.8\n",
       "370                                       Inception           7.9\n",
       "599                                 The Dark Knight           8.1\n",
       "863           The Lord of the Rings: The Two Towers           7.8\n",
       "872                                     The Pianist           7.9\n",
       "1081  The Lord of the Rings: The Return of the King           7.9\n",
       "1183                        The Wolf of Wall Street           7.9\n",
       "1191                               12 Years a Slave           7.9\n",
       "1563          Eternal Sunshine of the Spotless Mind           7.8\n",
       "1688                            There Will Be Blood           7.8\n",
       "1800                                        Memento           7.9"
      ]
     },
     "execution_count": 133,
     "metadata": {},
     "output_type": "execute_result"
    }
   ],
   "source": [
    "indexes = list(data.vote_average.sort_values().tail(round(len(data) / 100)).index)\n",
    "data.query(\"index in @indexes\")[['original_title', 'vote_average']]"
   ]
  },
  {
   "cell_type": "code",
   "execution_count": 134,
   "metadata": {},
   "outputs": [
    {
     "data": {
      "text/plain": [
       "['Inside Out',\n",
       " 'Room',\n",
       " 'Interstellar',\n",
       " 'Guardians of the Galaxy',\n",
       " 'The Imitation Game',\n",
       " 'Gone Girl',\n",
       " 'The Grand Budapest Hotel',\n",
       " 'The Theory of Everything',\n",
       " 'Mr. Nobody',\n",
       " 'Inception',\n",
       " 'The Dark Knight',\n",
       " 'The Lord of the Rings: The Two Towers',\n",
       " 'The Pianist',\n",
       " 'The Lord of the Rings: The Return of the King',\n",
       " 'The Wolf of Wall Street',\n",
       " '12 Years a Slave',\n",
       " 'Eternal Sunshine of the Spotless Mind',\n",
       " 'There Will Be Blood',\n",
       " 'Memento']"
      ]
     },
     "execution_count": 134,
     "metadata": {},
     "output_type": "execute_result"
    }
   ],
   "source": [
    "my_answer_26 = data.query(\"index in @indexes\").original_title.tolist()\n",
    "my_answer_26"
   ]
  },
  {
   "cell_type": "code",
   "execution_count": 135,
   "metadata": {},
   "outputs": [
    {
     "data": {
      "text/plain": [
       "'1. Inside Out, The Dark Knight, 12 Years a Slave'"
      ]
     },
     "execution_count": 135,
     "metadata": {},
     "output_type": "execute_result"
    }
   ],
   "source": [
    "answer_to(answers, str(task_number), option_search(answer_options_26, my_answer_26))\n",
    "answers[str(task_number)]"
   ]
  },
  {
   "cell_type": "markdown",
   "metadata": {
    "colab_type": "text",
    "id": "MdXsUXbCVqAV"
   },
   "source": [
    "# 27. Какие актеры чаще всего снимаются в одном фильме вместе?\n"
   ]
  },
  {
   "cell_type": "code",
   "execution_count": 136,
   "metadata": {},
   "outputs": [],
   "source": [
    "task_number = 27\n",
    "answer_options_27 = [[\"Johnny Depp & Helena Bonham Carter\"],\n",
    "                [\"Ben Stiller & Owen Wilson\"],\n",
    "                [\"Vin Diesel & Paul Walker\"],\n",
    "                [\"Adam Sandler & Kevin James\"],\n",
    "                [\"Daniel Radcliffe & Rupert Grint\"]]"
   ]
  },
  {
   "cell_type": "code",
   "execution_count": 137,
   "metadata": {},
   "outputs": [
    {
     "data": {
      "text/plain": [
       "0    Chris Pratt|Bryce Dallas Howard|Irrfan Khan|Vi...\n",
       "1    Tom Hardy|Charlize Theron|Hugh Keays-Byrne|Nic...\n",
       "2    Shailene Woodley|Theo James|Kate Winslet|Ansel...\n",
       "3    Harrison Ford|Mark Hamill|Carrie Fisher|Adam D...\n",
       "4    Vin Diesel|Paul Walker|Jason Statham|Michelle ...\n",
       "Name: cast, dtype: object"
      ]
     },
     "execution_count": 137,
     "metadata": {},
     "output_type": "execute_result"
    }
   ],
   "source": [
    "data.cast.head(5)"
   ]
  },
  {
   "cell_type": "code",
   "execution_count": 138,
   "metadata": {},
   "outputs": [
    {
     "data": {
      "text/plain": [
       "['Bryce Dallas Howard & Irrfan Khan',\n",
       " 'Bryce Dallas Howard & Nick Robinson',\n",
       " \"Bryce Dallas Howard & Vincent D'Onofrio\",\n",
       " 'Chris Pratt & Irrfan Khan',\n",
       " 'Chris Pratt & Nick Robinson',\n",
       " \"Chris Pratt & Vincent D'Onofrio\",\n",
       " 'Irrfan Khan & Nick Robinson',\n",
       " \"Irrfan Khan & Vincent D'Onofrio\",\n",
       " \"Nick Robinson & Vincent D'Onofrio\"]"
      ]
     },
     "execution_count": 138,
     "metadata": {},
     "output_type": "execute_result"
    }
   ],
   "source": [
    "# Получим список всех пар актеров.\n",
    "pair_actors = []\n",
    "cast_list = data.cast.to_list()\n",
    "for actors in cast_list:\n",
    "    pair_up(actors.split('|'), pair_actors)\n",
    "pair_actors[1:10]"
   ]
  },
  {
   "cell_type": "markdown",
   "metadata": {
    "colab_type": "text",
    "id": "4ymnxEVoVqAW"
   },
   "source": [
    "ВАРИАНТ 1"
   ]
  },
  {
   "cell_type": "code",
   "execution_count": 139,
   "metadata": {},
   "outputs": [
    {
     "data": {
      "text/plain": [
       "Counter({'Bryce Dallas Howard & Chris Pratt': 1,\n",
       "         'Bryce Dallas Howard & Irrfan Khan': 1,\n",
       "         'Bryce Dallas Howard & Nick Robinson': 1,\n",
       "         \"Bryce Dallas Howard & Vincent D'Onofrio\": 1,\n",
       "         'Chris Pratt & Irrfan Khan': 1,\n",
       "         'Chris Pratt & Nick Robinson': 1,\n",
       "         \"Chris Pratt & Vincent D'Onofrio\": 1,\n",
       "         'Irrfan Khan & Nick Robinson': 1,\n",
       "         \"Irrfan Khan & Vincent D'Onofrio\": 1,\n",
       "         \"Nick Robinson & Vincent D'Onofrio\": 1,\n",
       "         'Charlize Theron & Hugh Keays-Byrne': 1,\n",
       "         'Charlize Theron & Josh Helman': 1,\n",
       "         'Charlize Theron & Nicholas Hoult': 1,\n",
       "         'Charlize Theron & Tom Hardy': 1,\n",
       "         'Hugh Keays-Byrne & Josh Helman': 1,\n",
       "         'Hugh Keays-Byrne & Nicholas Hoult': 1,\n",
       "         'Hugh Keays-Byrne & Tom Hardy': 1,\n",
       "         'Josh Helman & Nicholas Hoult': 1,\n",
       "         'Josh Helman & Tom Hardy': 1,\n",
       "         'Nicholas Hoult & Tom Hardy': 1,\n",
       "         'Ansel Elgort & Kate Winslet': 1,\n",
       "         'Ansel Elgort & Miles Teller': 1,\n",
       "         'Ansel Elgort & Shailene Woodley': 2,\n",
       "         'Ansel Elgort & Theo James': 1,\n",
       "         'Kate Winslet & Miles Teller': 2,\n",
       "         'Kate Winslet & Shailene Woodley': 2,\n",
       "         'Kate Winslet & Theo James': 2,\n",
       "         'Miles Teller & Shailene Woodley': 2,\n",
       "         'Miles Teller & Theo James': 2,\n",
       "         'Shailene Woodley & Theo James': 2,\n",
       "         'Adam Driver & Carrie Fisher': 1,\n",
       "         'Adam Driver & Daisy Ridley': 1,\n",
       "         'Adam Driver & Harrison Ford': 1,\n",
       "         'Adam Driver & Mark Hamill': 1,\n",
       "         'Carrie Fisher & Daisy Ridley': 1,\n",
       "         'Carrie Fisher & Harrison Ford': 1,\n",
       "         'Carrie Fisher & Mark Hamill': 1,\n",
       "         'Daisy Ridley & Harrison Ford': 1,\n",
       "         'Daisy Ridley & Mark Hamill': 1,\n",
       "         'Harrison Ford & Mark Hamill': 1,\n",
       "         'Dwayne Johnson & Jason Statham': 1,\n",
       "         'Dwayne Johnson & Michelle Rodriguez': 1,\n",
       "         'Dwayne Johnson & Paul Walker': 3,\n",
       "         'Dwayne Johnson & Vin Diesel': 3,\n",
       "         'Jason Statham & Michelle Rodriguez': 1,\n",
       "         'Jason Statham & Paul Walker': 1,\n",
       "         'Jason Statham & Vin Diesel': 1,\n",
       "         'Michelle Rodriguez & Paul Walker': 3,\n",
       "         'Michelle Rodriguez & Vin Diesel': 3,\n",
       "         'Paul Walker & Vin Diesel': 5,\n",
       "         'Domhnall Gleeson & Leonardo DiCaprio': 1,\n",
       "         'Domhnall Gleeson & Paul Anderson': 1,\n",
       "         'Domhnall Gleeson & Tom Hardy': 1,\n",
       "         'Domhnall Gleeson & Will Poulter': 1,\n",
       "         'Leonardo DiCaprio & Paul Anderson': 1,\n",
       "         'Leonardo DiCaprio & Tom Hardy': 2,\n",
       "         'Leonardo DiCaprio & Will Poulter': 1,\n",
       "         'Paul Anderson & Tom Hardy': 1,\n",
       "         'Paul Anderson & Will Poulter': 1,\n",
       "         'Tom Hardy & Will Poulter': 1,\n",
       "         'Arnold Schwarzenegger & Emilia Clarke': 1,\n",
       "         'Arnold Schwarzenegger & J.K. Simmons': 1,\n",
       "         'Arnold Schwarzenegger & Jai Courtney': 1,\n",
       "         'Arnold Schwarzenegger & Jason Clarke': 1,\n",
       "         'Emilia Clarke & J.K. Simmons': 1,\n",
       "         'Emilia Clarke & Jai Courtney': 1,\n",
       "         'Emilia Clarke & Jason Clarke': 1,\n",
       "         'J.K. Simmons & Jai Courtney': 1,\n",
       "         'J.K. Simmons & Jason Clarke': 1,\n",
       "         'Jai Courtney & Jason Clarke': 1,\n",
       "         'Jeff Daniels & Jessica Chastain': 1,\n",
       "         'Jeff Daniels & Kristen Wiig': 1,\n",
       "         'Jeff Daniels & Matt Damon': 1,\n",
       "         'Jeff Daniels & Michael PeÃ±a': 1,\n",
       "         'Jessica Chastain & Kristen Wiig': 1,\n",
       "         'Jessica Chastain & Matt Damon': 1,\n",
       "         'Jessica Chastain & Michael PeÃ±a': 1,\n",
       "         'Kristen Wiig & Matt Damon': 1,\n",
       "         'Kristen Wiig & Michael PeÃ±a': 1,\n",
       "         'Matt Damon & Michael PeÃ±a': 1,\n",
       "         'Allison Janney & Jon Hamm': 1,\n",
       "         'Allison Janney & Michael Keaton': 1,\n",
       "         'Allison Janney & Sandra Bullock': 1,\n",
       "         'Allison Janney & Steve Coogan': 1,\n",
       "         'Jon Hamm & Michael Keaton': 1,\n",
       "         'Jon Hamm & Sandra Bullock': 1,\n",
       "         'Jon Hamm & Steve Coogan': 1,\n",
       "         'Michael Keaton & Sandra Bullock': 1,\n",
       "         'Michael Keaton & Steve Coogan': 1,\n",
       "         'Sandra Bullock & Steve Coogan': 1,\n",
       "         'Amy Poehler & Bill Hader': 1,\n",
       "         'Amy Poehler & Lewis Black': 1,\n",
       "         'Amy Poehler & Phyllis Smith': 1,\n",
       "         'Amy Poehler & Richard Kind': 1,\n",
       "         'Bill Hader & Lewis Black': 1,\n",
       "         'Bill Hader & Phyllis Smith': 1,\n",
       "         'Bill Hader & Richard Kind': 1,\n",
       "         'Lewis Black & Phyllis Smith': 1,\n",
       "         'Lewis Black & Richard Kind': 1,\n",
       "         'Phyllis Smith & Richard Kind': 1,\n",
       "         'Christoph Waltz & Daniel Craig': 1,\n",
       "         'Christoph Waltz & LÃ©a Seydoux': 1,\n",
       "         'Christoph Waltz & Monica Bellucci': 1,\n",
       "         'Christoph Waltz & Ralph Fiennes': 1,\n",
       "         'Daniel Craig & LÃ©a Seydoux': 1,\n",
       "         'Daniel Craig & Monica Bellucci': 1,\n",
       "         'Daniel Craig & Ralph Fiennes': 2,\n",
       "         'LÃ©a Seydoux & Monica Bellucci': 1,\n",
       "         'LÃ©a Seydoux & Ralph Fiennes': 1,\n",
       "         'Monica Bellucci & Ralph Fiennes': 1,\n",
       "         'Channing Tatum & Douglas Booth': 1,\n",
       "         'Channing Tatum & Eddie Redmayne': 1,\n",
       "         'Channing Tatum & Mila Kunis': 1,\n",
       "         'Channing Tatum & Sean Bean': 1,\n",
       "         'Douglas Booth & Eddie Redmayne': 1,\n",
       "         'Douglas Booth & Mila Kunis': 1,\n",
       "         'Douglas Booth & Sean Bean': 1,\n",
       "         'Eddie Redmayne & Mila Kunis': 1,\n",
       "         'Eddie Redmayne & Sean Bean': 1,\n",
       "         'Mila Kunis & Sean Bean': 1,\n",
       "         'Alicia Vikander & Corey Johnson': 1,\n",
       "         'Alicia Vikander & Domhnall Gleeson': 1,\n",
       "         'Alicia Vikander & Oscar Isaac': 1,\n",
       "         'Alicia Vikander & Sonoya Mizuno': 1,\n",
       "         'Corey Johnson & Domhnall Gleeson': 1,\n",
       "         'Corey Johnson & Oscar Isaac': 1,\n",
       "         'Corey Johnson & Sonoya Mizuno': 1,\n",
       "         'Domhnall Gleeson & Oscar Isaac': 1,\n",
       "         'Domhnall Gleeson & Sonoya Mizuno': 1,\n",
       "         'Oscar Isaac & Sonoya Mizuno': 1,\n",
       "         'Adam Sandler & Josh Gad': 1,\n",
       "         'Adam Sandler & Kevin James': 5,\n",
       "         'Adam Sandler & Michelle Monaghan': 1,\n",
       "         'Adam Sandler & Peter Dinklage': 1,\n",
       "         'Josh Gad & Kevin James': 1,\n",
       "         'Josh Gad & Michelle Monaghan': 1,\n",
       "         'Josh Gad & Peter Dinklage': 1,\n",
       "         'Kevin James & Michelle Monaghan': 1,\n",
       "         'Kevin James & Peter Dinklage': 1,\n",
       "         'Michelle Monaghan & Peter Dinklage': 1,\n",
       "         'Chris Evans & Chris Hemsworth': 2,\n",
       "         'Chris Evans & Mark Ruffalo': 2,\n",
       "         'Chris Evans & Robert Downey Jr.': 2,\n",
       "         'Chris Evans & Scarlett Johansson': 4,\n",
       "         'Chris Hemsworth & Mark Ruffalo': 2,\n",
       "         'Chris Hemsworth & Robert Downey Jr.': 2,\n",
       "         'Chris Hemsworth & Scarlett Johansson': 2,\n",
       "         'Mark Ruffalo & Robert Downey Jr.': 3,\n",
       "         'Mark Ruffalo & Scarlett Johansson': 2,\n",
       "         'Robert Downey Jr. & Scarlett Johansson': 3,\n",
       "         'DemiÃ¡n Bichir & Jennifer Jason Leigh': 1,\n",
       "         'DemiÃ¡n Bichir & Kurt Russell': 1,\n",
       "         'DemiÃ¡n Bichir & Samuel L. Jackson': 1,\n",
       "         'DemiÃ¡n Bichir & Walton Goggins': 1,\n",
       "         'Jennifer Jason Leigh & Kurt Russell': 1,\n",
       "         'Jennifer Jason Leigh & Samuel L. Jackson': 1,\n",
       "         'Jennifer Jason Leigh & Walton Goggins': 1,\n",
       "         'Kurt Russell & Samuel L. Jackson': 1,\n",
       "         'Kurt Russell & Walton Goggins': 1,\n",
       "         'Samuel L. Jackson & Walton Goggins': 1,\n",
       "         'Dougray Scott & Famke Janssen': 1,\n",
       "         'Dougray Scott & Forest Whitaker': 1,\n",
       "         'Dougray Scott & Liam Neeson': 1,\n",
       "         'Dougray Scott & Maggie Grace': 1,\n",
       "         'Famke Janssen & Forest Whitaker': 1,\n",
       "         'Famke Janssen & Liam Neeson': 3,\n",
       "         'Famke Janssen & Maggie Grace': 3,\n",
       "         'Forest Whitaker & Liam Neeson': 1,\n",
       "         'Forest Whitaker & Maggie Grace': 1,\n",
       "         'Liam Neeson & Maggie Grace': 3,\n",
       "         'Bobby Cannavale & Corey Stoll': 1,\n",
       "         'Bobby Cannavale & Evangeline Lilly': 1,\n",
       "         'Bobby Cannavale & Michael Douglas': 1,\n",
       "         'Bobby Cannavale & Paul Rudd': 1,\n",
       "         'Corey Stoll & Evangeline Lilly': 1,\n",
       "         'Corey Stoll & Michael Douglas': 1,\n",
       "         'Corey Stoll & Paul Rudd': 1,\n",
       "         'Evangeline Lilly & Michael Douglas': 1,\n",
       "         'Evangeline Lilly & Paul Rudd': 1,\n",
       "         'Michael Douglas & Paul Rudd': 1,\n",
       "         'Cate Blanchett & Helena Bonham Carter': 1,\n",
       "         'Cate Blanchett & Holliday Grainger': 1,\n",
       "         'Cate Blanchett & Lily James': 1,\n",
       "         'Cate Blanchett & Richard Madden': 1,\n",
       "         'Helena Bonham Carter & Holliday Grainger': 1,\n",
       "         'Helena Bonham Carter & Lily James': 1,\n",
       "         'Helena Bonham Carter & Richard Madden': 1,\n",
       "         'Holliday Grainger & Lily James': 1,\n",
       "         'Holliday Grainger & Richard Madden': 1,\n",
       "         'Lily James & Richard Madden': 1,\n",
       "         'Elizabeth Banks & Jennifer Lawrence': 3,\n",
       "         'Elizabeth Banks & Josh Hutcherson': 3,\n",
       "         'Elizabeth Banks & Liam Hemsworth': 3,\n",
       "         'Elizabeth Banks & Woody Harrelson': 3,\n",
       "         'Jennifer Lawrence & Josh Hutcherson': 4,\n",
       "         'Jennifer Lawrence & Liam Hemsworth': 4,\n",
       "         'Jennifer Lawrence & Woody Harrelson': 4,\n",
       "         'Josh Hutcherson & Liam Hemsworth': 4,\n",
       "         'Josh Hutcherson & Woody Harrelson': 4,\n",
       "         'Liam Hemsworth & Woody Harrelson': 4,\n",
       "         'Britt Robertson & George Clooney': 1,\n",
       "         'Britt Robertson & Hugh Laurie': 1,\n",
       "         'Britt Robertson & Raffey Cassidy': 1,\n",
       "         'Britt Robertson & Thomas Robinson': 1,\n",
       "         'George Clooney & Hugh Laurie': 1,\n",
       "         'George Clooney & Raffey Cassidy': 1,\n",
       "         'George Clooney & Thomas Robinson': 1,\n",
       "         'Hugh Laurie & Raffey Cassidy': 1,\n",
       "         'Hugh Laurie & Thomas Robinson': 1,\n",
       "         'Raffey Cassidy & Thomas Robinson': 1,\n",
       "         '50 Cent & Forest Whitaker': 1,\n",
       "         '50 Cent & Jake Gyllenhaal': 1,\n",
       "         '50 Cent & Oona Laurence': 1,\n",
       "         '50 Cent & Rachel McAdams': 1,\n",
       "         'Forest Whitaker & Jake Gyllenhaal': 1,\n",
       "         'Forest Whitaker & Oona Laurence': 1,\n",
       "         'Forest Whitaker & Rachel McAdams': 1,\n",
       "         'Jake Gyllenhaal & Oona Laurence': 1,\n",
       "         'Jake Gyllenhaal & Rachel McAdams': 1,\n",
       "         'Oona Laurence & Rachel McAdams': 1,\n",
       "         'Alexandra Daddario & Archie Panjabi': 1,\n",
       "         'Alexandra Daddario & Carla Gugino': 1,\n",
       "         'Alexandra Daddario & Dwayne Johnson': 1,\n",
       "         'Alexandra Daddario & Ioan Gruffudd': 1,\n",
       "         'Archie Panjabi & Carla Gugino': 1,\n",
       "         'Archie Panjabi & Dwayne Johnson': 1,\n",
       "         'Archie Panjabi & Ioan Gruffudd': 1,\n",
       "         'Carla Gugino & Dwayne Johnson': 2,\n",
       "         'Carla Gugino & Ioan Gruffudd': 1,\n",
       "         'Dwayne Johnson & Ioan Gruffudd': 1,\n",
       "         'Dakota Johnson & Eloise Mumford': 1,\n",
       "         'Dakota Johnson & Jamie Dornan': 1,\n",
       "         'Dakota Johnson & Jennifer Ehle': 1,\n",
       "         'Dakota Johnson & Victor Rasuk': 1,\n",
       "         'Eloise Mumford & Jamie Dornan': 1,\n",
       "         'Eloise Mumford & Jennifer Ehle': 1,\n",
       "         'Eloise Mumford & Victor Rasuk': 1,\n",
       "         'Jamie Dornan & Jennifer Ehle': 1,\n",
       "         'Jamie Dornan & Victor Rasuk': 1,\n",
       "         'Jennifer Ehle & Victor Rasuk': 1,\n",
       "         'Brad Pitt & Christian Bale': 1,\n",
       "         'Brad Pitt & Melissa Leo': 1,\n",
       "         'Brad Pitt & Ryan Gosling': 1,\n",
       "         'Brad Pitt & Steve Carell': 1,\n",
       "         'Christian Bale & Melissa Leo': 2,\n",
       "         'Christian Bale & Ryan Gosling': 1,\n",
       "         'Christian Bale & Steve Carell': 1,\n",
       "         'Melissa Leo & Ryan Gosling': 1,\n",
       "         'Melissa Leo & Steve Carell': 1,\n",
       "         'Ryan Gosling & Steve Carell': 2,\n",
       "         'Jeremy Renner & Rebecca Ferguson': 1,\n",
       "         'Jeremy Renner & Simon Pegg': 2,\n",
       "         'Jeremy Renner & Tom Cruise': 2,\n",
       "         'Jeremy Renner & Ving Rhames': 1,\n",
       "         'Rebecca Ferguson & Simon Pegg': 1,\n",
       "         'Rebecca Ferguson & Tom Cruise': 1,\n",
       "         'Rebecca Ferguson & Ving Rhames': 1,\n",
       "         'Simon Pegg & Tom Cruise': 2,\n",
       "         'Simon Pegg & Ving Rhames': 1,\n",
       "         'Tom Cruise & Ving Rhames': 3,\n",
       "         'Amanda Seyfried & Giovanni Ribisi': 1,\n",
       "         'Amanda Seyfried & Jessica Barth': 1,\n",
       "         'Amanda Seyfried & Mark Wahlberg': 1,\n",
       "         'Amanda Seyfried & Seth MacFarlane': 1,\n",
       "         'Giovanni Ribisi & Jessica Barth': 1,\n",
       "         'Giovanni Ribisi & Mark Wahlberg': 3,\n",
       "         'Giovanni Ribisi & Seth MacFarlane': 2,\n",
       "         'Jessica Barth & Mark Wahlberg': 1,\n",
       "         'Jessica Barth & Seth MacFarlane': 1,\n",
       "         'Mark Wahlberg & Seth MacFarlane': 2,\n",
       "         'Colin Firth & Mark Strong': 1,\n",
       "         'Colin Firth & Michael Caine': 1,\n",
       "         'Colin Firth & Samuel L. Jackson': 1,\n",
       "         'Colin Firth & Taron Egerton': 1,\n",
       "         'Mark Strong & Michael Caine': 1,\n",
       "         'Mark Strong & Samuel L. Jackson': 1,\n",
       "         'Mark Strong & Taron Egerton': 1,\n",
       "         'Michael Caine & Samuel L. Jackson': 1,\n",
       "         'Michael Caine & Taron Egerton': 1,\n",
       "         'Samuel L. Jackson & Taron Egerton': 1,\n",
       "         'John Slattery & Liev Schreiber': 1,\n",
       "         'John Slattery & Mark Ruffalo': 1,\n",
       "         'John Slattery & Michael Keaton': 1,\n",
       "         'John Slattery & Rachel McAdams': 1,\n",
       "         'Liev Schreiber & Mark Ruffalo': 1,\n",
       "         'Liev Schreiber & Michael Keaton': 1,\n",
       "         'Liev Schreiber & Rachel McAdams': 1,\n",
       "         'Mark Ruffalo & Michael Keaton': 1,\n",
       "         'Mark Ruffalo & Rachel McAdams': 1,\n",
       "         'Michael Keaton & Rachel McAdams': 1,\n",
       "         \"Aidan Gillen & Dylan O'Brien\": 1,\n",
       "         'Aidan Gillen & Giancarlo Esposito': 1,\n",
       "         'Aidan Gillen & Kaya Scodelario': 1,\n",
       "         'Aidan Gillen & Thomas Brodie-Sangster': 1,\n",
       "         \"Dylan O'Brien & Giancarlo Esposito\": 1,\n",
       "         \"Dylan O'Brien & Kaya Scodelario\": 2,\n",
       "         \"Dylan O'Brien & Thomas Brodie-Sangster\": 1,\n",
       "         'Giancarlo Esposito & Kaya Scodelario': 1,\n",
       "         'Giancarlo Esposito & Thomas Brodie-Sangster': 1,\n",
       "         'Kaya Scodelario & Thomas Brodie-Sangster': 1,\n",
       "         'Dev Patel & Jose Pablo Cantillo': 1,\n",
       "         'Dev Patel & Ninja': 1,\n",
       "         'Dev Patel & Sharlto Copley': 1,\n",
       "         'Dev Patel & Yolandi Visser': 1,\n",
       "         'Jose Pablo Cantillo & Ninja': 1,\n",
       "         'Jose Pablo Cantillo & Sharlto Copley': 1,\n",
       "         'Jose Pablo Cantillo & Yolandi Visser': 1,\n",
       "         'Ninja & Sharlto Copley': 1,\n",
       "         'Ninja & Yolandi Visser': 1,\n",
       "         'Sharlto Copley & Yolandi Visser': 1,\n",
       "         'Anna Kendrick & Brittany Snow': 2,\n",
       "         'Anna Kendrick & Hailee Steinfeld': 1,\n",
       "         'Anna Kendrick & Rebel Wilson': 2,\n",
       "         'Anna Kendrick & Skylar Astin': 2,\n",
       "         'Brittany Snow & Hailee Steinfeld': 1,\n",
       "         'Brittany Snow & Rebel Wilson': 2,\n",
       "         'Brittany Snow & Skylar Astin': 2,\n",
       "         'Hailee Steinfeld & Rebel Wilson': 1,\n",
       "         'Hailee Steinfeld & Skylar Astin': 1,\n",
       "         'Rebel Wilson & Skylar Astin': 2,\n",
       "         'Alan Alda & Amy Ryan': 1,\n",
       "         'Alan Alda & Mark Rylance': 1,\n",
       "         'Alan Alda & Sebastian Koch': 1,\n",
       "         'Alan Alda & Tom Hanks': 1,\n",
       "         'Amy Ryan & Mark Rylance': 1,\n",
       "         'Amy Ryan & Sebastian Koch': 1,\n",
       "         'Amy Ryan & Tom Hanks': 1,\n",
       "         'Mark Rylance & Sebastian Koch': 1,\n",
       "         'Mark Rylance & Tom Hanks': 1,\n",
       "         'Sebastian Koch & Tom Hanks': 1,\n",
       "         'Amy Ryan & Dylan Minnette': 1,\n",
       "         'Amy Ryan & Jack Black': 1,\n",
       "         'Amy Ryan & Jillian Bell': 1,\n",
       "         'Amy Ryan & Odeya Rush': 1,\n",
       "         'Dylan Minnette & Jack Black': 1,\n",
       "         'Dylan Minnette & Jillian Bell': 1,\n",
       "         'Dylan Minnette & Odeya Rush': 1,\n",
       "         'Jack Black & Jillian Bell': 1,\n",
       "         'Jack Black & Odeya Rush': 1,\n",
       "         'Jillian Bell & Odeya Rush': 1,\n",
       "         'Brie Larson & Jacob Tremblay': 1,\n",
       "         'Brie Larson & Joan Allen': 1,\n",
       "         'Brie Larson & Sean Bridgers': 1,\n",
       "         'Brie Larson & William H. Macy': 1,\n",
       "         'Jacob Tremblay & Joan Allen': 1,\n",
       "         'Jacob Tremblay & Sean Bridgers': 1,\n",
       "         'Jacob Tremblay & William H. Macy': 1,\n",
       "         'Joan Allen & Sean Bridgers': 1,\n",
       "         'Joan Allen & William H. Macy': 1,\n",
       "         'Sean Bridgers & William H. Macy': 1,\n",
       "         'Frances McDormand & Jack Bright': 1,\n",
       "         'Frances McDormand & Jeffrey Wright': 1,\n",
       "         'Frances McDormand & Maleah Nipay-Padilla': 1,\n",
       "         'Frances McDormand & Raymond Ochoa': 1,\n",
       "         'Jack Bright & Jeffrey Wright': 1,\n",
       "         'Jack Bright & Maleah Nipay-Padilla': 1,\n",
       "         'Jack Bright & Raymond Ochoa': 1,\n",
       "         'Jeffrey Wright & Maleah Nipay-Padilla': 1,\n",
       "         'Jeffrey Wright & Raymond Ochoa': 1,\n",
       "         'Maleah Nipay-Padilla & Raymond Ochoa': 1,\n",
       "         'Boyd Holbrook & Bruce McGill': 1,\n",
       "         'Boyd Holbrook & Ed Harris': 1,\n",
       "         'Boyd Holbrook & Joel Kinnaman': 1,\n",
       "         'Boyd Holbrook & Liam Neeson': 2,\n",
       "         'Bruce McGill & Ed Harris': 1,\n",
       "         'Bruce McGill & Joel Kinnaman': 1,\n",
       "         'Bruce McGill & Liam Neeson': 1,\n",
       "         'Ed Harris & Joel Kinnaman': 1,\n",
       "         'Ed Harris & Liam Neeson': 1,\n",
       "         'Joel Kinnaman & Liam Neeson': 1,\n",
       "         \"Domhnall Gleeson & Eileen O'Higgins\": 1,\n",
       "         'Domhnall Gleeson & Emily Bett Rickards': 1,\n",
       "         'Domhnall Gleeson & Emory Cohen': 1,\n",
       "         'Domhnall Gleeson & Saoirse Ronan': 1,\n",
       "         \"Eileen O'Higgins & Emily Bett Rickards\": 1,\n",
       "         \"Eileen O'Higgins & Emory Cohen\": 1,\n",
       "         \"Eileen O'Higgins & Saoirse Ronan\": 1,\n",
       "         'Emily Bett Rickards & Emory Cohen': 1,\n",
       "         'Emily Bett Rickards & Saoirse Ronan': 1,\n",
       "         'Emory Cohen & Saoirse Ronan': 1,\n",
       "         'Aldis Hodge & Corey Hawkins': 1,\n",
       "         'Aldis Hodge & Jason Mitchell': 1,\n",
       "         'Aldis Hodge & Neil Brown Jr.': 1,\n",
       "         \"Aldis Hodge & O'Shea Jackson Jr.\": 1,\n",
       "         'Corey Hawkins & Jason Mitchell': 1,\n",
       "         'Corey Hawkins & Neil Brown Jr.': 1,\n",
       "         \"Corey Hawkins & O'Shea Jackson Jr.\": 1,\n",
       "         'Jason Mitchell & Neil Brown Jr.': 1,\n",
       "         \"Jason Mitchell & O'Shea Jackson Jr.\": 1,\n",
       "         \"Neil Brown Jr. & O'Shea Jackson Jr.\": 1,\n",
       "         'Elijah Wood & Michael Caine': 1,\n",
       "         'Elijah Wood & Rose Leslie': 1,\n",
       "         'Elijah Wood & Vin Diesel': 1,\n",
       "         'Elijah Wood & Ã“lafur Darri Ã“lafsson': 1,\n",
       "         'Michael Caine & Rose Leslie': 1,\n",
       "         'Michael Caine & Vin Diesel': 1,\n",
       "         'Michael Caine & Ã“lafur Darri Ã“lafsson': 1,\n",
       "         'Rose Leslie & Vin Diesel': 1,\n",
       "         'Rose Leslie & Ã“lafur Darri Ã“lafsson': 1,\n",
       "         'Vin Diesel & Ã“lafur Darri Ã“lafsson': 1,\n",
       "         'Alicia Vikander & Armie Hammer': 1,\n",
       "         'Alicia Vikander & Elizabeth Debicki': 1,\n",
       "         'Alicia Vikander & Henry Cavill': 1,\n",
       "         'Alicia Vikander & Luca Calvani': 1,\n",
       "         'Armie Hammer & Elizabeth Debicki': 1,\n",
       "         'Armie Hammer & Henry Cavill': 1,\n",
       "         'Armie Hammer & Luca Calvani': 1,\n",
       "         'Elizabeth Debicki & Henry Cavill': 1,\n",
       "         'Elizabeth Debicki & Luca Calvani': 1,\n",
       "         'Henry Cavill & Luca Calvani': 1,\n",
       "         'Blake Lively & Ellen Burstyn': 1,\n",
       "         'Blake Lively & Harrison Ford': 1,\n",
       "         'Blake Lively & Kathy Baker': 1,\n",
       "         'Blake Lively & Michiel Huisman': 1,\n",
       "         'Ellen Burstyn & Harrison Ford': 1,\n",
       "         'Ellen Burstyn & Kathy Baker': 1,\n",
       "         'Ellen Burstyn & Michiel Huisman': 1,\n",
       "         'Harrison Ford & Kathy Baker': 1,\n",
       "         'Harrison Ford & Michiel Huisman': 1,\n",
       "         'Kathy Baker & Michiel Huisman': 1,\n",
       "         'Andrei Dementiev & Danila Kozlovskiy': 1,\n",
       "         'Andrei Dementiev & Haley Bennett': 1,\n",
       "         'Andrei Dementiev & Sharlto Copley': 1,\n",
       "         'Andrei Dementiev & Tim Roth': 1,\n",
       "         'Danila Kozlovskiy & Haley Bennett': 1,\n",
       "         'Danila Kozlovskiy & Sharlto Copley': 1,\n",
       "         'Danila Kozlovskiy & Tim Roth': 1,\n",
       "         'Haley Bennett & Sharlto Copley': 1,\n",
       "         'Haley Bennett & Tim Roth': 1,\n",
       "         'Sharlto Copley & Tim Roth': 1,\n",
       "         'Jennifer Lopez & Jim Parsons': 1,\n",
       "         'Jennifer Lopez & Matt Jones': 1,\n",
       "         'Jennifer Lopez & Rihanna': 1,\n",
       "         'Jennifer Lopez & Steve Martin': 1,\n",
       "         'Jim Parsons & Matt Jones': 1,\n",
       "         'Jim Parsons & Rihanna': 1,\n",
       "         'Jim Parsons & Steve Martin': 2,\n",
       "         'Matt Jones & Rihanna': 1,\n",
       "         'Matt Jones & Steve Martin': 1,\n",
       "         'Rihanna & Steve Martin': 1,\n",
       "         'Austin Abrams & Cara Delevingne': 1,\n",
       "         'Austin Abrams & Halston Sage': 1,\n",
       "         'Austin Abrams & Justice Smith': 1,\n",
       "         'Austin Abrams & Nat Wolff': 1,\n",
       "         'Cara Delevingne & Halston Sage': 1,\n",
       "         'Cara Delevingne & Justice Smith': 1,\n",
       "         'Cara Delevingne & Nat Wolff': 1,\n",
       "         'Halston Sage & Justice Smith': 1,\n",
       "         'Halston Sage & Nat Wolff': 1,\n",
       "         'Justice Smith & Nat Wolff': 1,\n",
       "         'Cate Blanchett & Jake Lacy': 1,\n",
       "         'Cate Blanchett & Kyle Chandler': 1,\n",
       "         'Cate Blanchett & Rooney Mara': 1,\n",
       "         'Cate Blanchett & Sarah Paulson': 1,\n",
       "         'Jake Lacy & Kyle Chandler': 1,\n",
       "         'Jake Lacy & Rooney Mara': 1,\n",
       "         'Jake Lacy & Sarah Paulson': 1,\n",
       "         'Kyle Chandler & Rooney Mara': 1,\n",
       "         'Kyle Chandler & Sarah Paulson': 1,\n",
       "         'Rooney Mara & Sarah Paulson': 1,\n",
       "         'Anders Holm & Anne Hathaway': 1,\n",
       "         'Anders Holm & JoJo Kushner': 1,\n",
       "         'Anders Holm & Rene Russo': 1,\n",
       "         'Anders Holm & Robert De Niro': 1,\n",
       "         'Anne Hathaway & JoJo Kushner': 1,\n",
       "         'Anne Hathaway & Rene Russo': 1,\n",
       "         'Anne Hathaway & Robert De Niro': 1,\n",
       "         'JoJo Kushner & Rene Russo': 1,\n",
       "         'JoJo Kushner & Robert De Niro': 1,\n",
       "         'Rene Russo & Robert De Niro': 2,\n",
       "         'Jake Gyllenhaal & Jason Clarke': 1,\n",
       "         'Jake Gyllenhaal & John Hawkes': 1,\n",
       "         'Jake Gyllenhaal & Josh Brolin': 1,\n",
       "         'Jake Gyllenhaal & Sam Worthington': 1,\n",
       "         'Jason Clarke & John Hawkes': 1,\n",
       "         'Jason Clarke & Josh Brolin': 1,\n",
       "         'Jason Clarke & Sam Worthington': 1,\n",
       "         'John Hawkes & Josh Brolin': 1,\n",
       "         'John Hawkes & Sam Worthington': 1,\n",
       "         'Josh Brolin & Sam Worthington': 1,\n",
       "         'Delroy Lindo & Edgar RamÃ\\xadrez': 2,\n",
       "         'Delroy Lindo & Luke Bracey': 1,\n",
       "         'Delroy Lindo & Ray Winstone': 1,\n",
       "         'Delroy Lindo & Teresa Palmer': 1,\n",
       "         'Edgar RamÃ\\xadrez & Luke Bracey': 1,\n",
       "         'Edgar RamÃ\\xadrez & Ray Winstone': 1,\n",
       "         'Edgar RamÃ\\xadrez & Teresa Palmer': 1,\n",
       "         'Luke Bracey & Ray Winstone': 1,\n",
       "         'Luke Bracey & Teresa Palmer': 1,\n",
       "         'Ray Winstone & Teresa Palmer': 1,\n",
       "         'Alicia Vikander & Bradley Cooper': 1,\n",
       "         'Alicia Vikander & Lily James': 1,\n",
       "         'Alicia Vikander & Sienna Miller': 1,\n",
       "         'Alicia Vikander & Uma Thurman': 1,\n",
       "         'Bradley Cooper & Lily James': 1,\n",
       "         'Bradley Cooper & Sienna Miller': 2,\n",
       "         'Bradley Cooper & Uma Thurman': 1,\n",
       "         'Lily James & Sienna Miller': 1,\n",
       "         'Lily James & Uma Thurman': 1,\n",
       "         'Sienna Miller & Uma Thurman': 1,\n",
       "         'Ben Kingsley & Matthew Goode': 1,\n",
       "         'Ben Kingsley & Michelle Dockery': 1,\n",
       "         'Ben Kingsley & Natalie Martinez': 1,\n",
       "         'Ben Kingsley & Ryan Reynolds': 1,\n",
       "         'Matthew Goode & Michelle Dockery': 1,\n",
       "         'Matthew Goode & Natalie Martinez': 1,\n",
       "         'Matthew Goode & Ryan Reynolds': 1,\n",
       "         'Michelle Dockery & Natalie Martinez': 1,\n",
       "         'Michelle Dockery & Ryan Reynolds': 1,\n",
       "         'Natalie Martinez & Ryan Reynolds': 1,\n",
       "         'Ewan McGregor & Gwyneth Paltrow': 1,\n",
       "         'Ewan McGregor & Johnny Depp': 1,\n",
       "         'Ewan McGregor & Olivia Munn': 1,\n",
       "         'Ewan McGregor & Paul Bettany': 1,\n",
       "         'Gwyneth Paltrow & Johnny Depp': 1,\n",
       "         'Gwyneth Paltrow & Olivia Munn': 1,\n",
       "         'Gwyneth Paltrow & Paul Bettany': 1,\n",
       "         'Johnny Depp & Olivia Munn': 1,\n",
       "         'Johnny Depp & Paul Bettany': 3,\n",
       "         'Olivia Munn & Paul Bettany': 1,\n",
       "         'Alicia Vikander & Amber Heard': 1,\n",
       "         'Alicia Vikander & Ben Whishaw': 1,\n",
       "         'Alicia Vikander & Eddie Redmayne': 1,\n",
       "         'Alicia Vikander & Matthias Schoenaerts': 1,\n",
       "         'Amber Heard & Ben Whishaw': 1,\n",
       "         'Amber Heard & Eddie Redmayne': 1,\n",
       "         'Amber Heard & Matthias Schoenaerts': 1,\n",
       "         'Ben Whishaw & Eddie Redmayne': 1,\n",
       "         'Ben Whishaw & Matthias Schoenaerts': 1,\n",
       "         'Eddie Redmayne & Matthias Schoenaerts': 1,\n",
       "         'Chris Hemsworth & Holt McCallany': 1,\n",
       "         'Chris Hemsworth & Leehom Wang': 1,\n",
       "         'Chris Hemsworth & Tang Wei': 1,\n",
       "         'Chris Hemsworth & Viola Davis': 1,\n",
       "         'Holt McCallany & Leehom Wang': 1,\n",
       "         'Holt McCallany & Tang Wei': 1,\n",
       "         'Holt McCallany & Viola Davis': 1,\n",
       "         'Leehom Wang & Tang Wei': 1,\n",
       "         'Leehom Wang & Viola Davis': 1,\n",
       "         'Tang Wei & Viola Davis': 1,\n",
       "         'Benicio del Toro & Emily Blunt': 1,\n",
       "         'Benicio del Toro & Jon Bernthal': 1,\n",
       "         'Benicio del Toro & Josh Brolin': 1,\n",
       "         'Benicio del Toro & Victor Garber': 1,\n",
       "         'Emily Blunt & Jon Bernthal': 1,\n",
       "         'Emily Blunt & Josh Brolin': 1,\n",
       "         'Emily Blunt & Victor Garber': 1,\n",
       "         'Jon Bernthal & Josh Brolin': 1,\n",
       "         'Jon Bernthal & Victor Garber': 1,\n",
       "         'Josh Brolin & Victor Garber': 1,\n",
       "         'Jamie Bell & Kate Mara': 1,\n",
       "         'Jamie Bell & Michael B. Jordan': 1,\n",
       "         'Jamie Bell & Miles Teller': 1,\n",
       "         'Jamie Bell & Toby Kebbell': 1,\n",
       "         'Kate Mara & Michael B. Jordan': 1,\n",
       "         'Kate Mara & Miles Teller': 1,\n",
       "         'Kate Mara & Toby Kebbell': 1,\n",
       "         'Michael B. Jordan & Miles Teller': 2,\n",
       "         'Michael B. Jordan & Toby Kebbell': 1,\n",
       "         'Miles Teller & Toby Kebbell': 1,\n",
       "         'Bobby Cannavale & Jason Statham': 1,\n",
       "         'Bobby Cannavale & Melissa McCarthy': 1,\n",
       "         'Bobby Cannavale & Miranda Hart': 1,\n",
       "         'Bobby Cannavale & Rose Byrne': 2,\n",
       "         'Jason Statham & Melissa McCarthy': 1,\n",
       "         'Jason Statham & Miranda Hart': 1,\n",
       "         'Jason Statham & Rose Byrne': 1,\n",
       "         'Melissa McCarthy & Miranda Hart': 1,\n",
       "         'Melissa McCarthy & Rose Byrne': 1,\n",
       "         'Miranda Hart & Rose Byrne': 1,\n",
       "         'Gerald McRaney & Margot Robbie': 1,\n",
       "         'Gerald McRaney & Robert Taylor': 1,\n",
       "         'Gerald McRaney & Rodrigo Santoro': 1,\n",
       "         'Gerald McRaney & Will Smith': 1,\n",
       "         'Margot Robbie & Robert Taylor': 1,\n",
       "         'Margot Robbie & Rodrigo Santoro': 1,\n",
       "         'Margot Robbie & Will Smith': 1,\n",
       "         'Robert Taylor & Rodrigo Santoro': 1,\n",
       "         'Robert Taylor & Will Smith': 1,\n",
       "         'Rodrigo Santoro & Will Smith': 1,\n",
       "         'Emilio Rivera & Hannah Ware': 1,\n",
       "         'Emilio Rivera & Rolf Kanies': 1,\n",
       "         'Emilio Rivera & Rupert Friend': 1,\n",
       "         'Emilio Rivera & Zachary Quinto': 1,\n",
       "         'Hannah Ware & Rolf Kanies': 1,\n",
       "         'Hannah Ware & Rupert Friend': 1,\n",
       "         'Hannah Ware & Zachary Quinto': 1,\n",
       "         'Rolf Kanies & Rupert Friend': 1,\n",
       "         'Rolf Kanies & Zachary Quinto': 1,\n",
       "         'Rupert Friend & Zachary Quinto': 1,\n",
       "         'Ben Whishaw & Benjamin Walker': 1,\n",
       "         'Ben Whishaw & Brendan Gleeson': 2,\n",
       "         'Ben Whishaw & Chris Hemsworth': 1,\n",
       "         'Ben Whishaw & Cillian Murphy': 1,\n",
       "         'Benjamin Walker & Brendan Gleeson': 1,\n",
       "         'Benjamin Walker & Chris Hemsworth': 1,\n",
       "         'Benjamin Walker & Cillian Murphy': 1,\n",
       "         'Brendan Gleeson & Chris Hemsworth': 1,\n",
       "         'Brendan Gleeson & Cillian Murphy': 1,\n",
       "         'Chris Hemsworth & Cillian Murphy': 1,\n",
       "         'Graham McTavish & Michael B. Jordan': 1,\n",
       "         'Graham McTavish & Phylicia RashÄd': 1,\n",
       "         'Graham McTavish & Sylvester Stallone': 1,\n",
       "         'Graham McTavish & Tessa Thompson': 1,\n",
       "         'Michael B. Jordan & Phylicia RashÄd': 1,\n",
       "         'Michael B. Jordan & Sylvester Stallone': 1,\n",
       "         'Michael B. Jordan & Tessa Thompson': 1,\n",
       "         'Phylicia RashÄd & Sylvester Stallone': 1,\n",
       "         'Phylicia RashÄd & Tessa Thompson': 1,\n",
       "         'Sylvester Stallone & Tessa Thompson': 1,\n",
       "         'Amy Schumer & Bill Hader': 1,\n",
       "         'Amy Schumer & Brie Larson': 1,\n",
       "         'Amy Schumer & Colin Quinn': 1,\n",
       "         'Amy Schumer & Vanessa Bayer': 1,\n",
       "         'Bill Hader & Brie Larson': 1,\n",
       "         'Bill Hader & Colin Quinn': 1,\n",
       "         'Bill Hader & Vanessa Bayer': 1,\n",
       "         'Brie Larson & Colin Quinn': 1,\n",
       "         'Brie Larson & Vanessa Bayer': 1,\n",
       "         'Colin Quinn & Vanessa Bayer': 1,\n",
       "         'Aaron Paul & Alan Rickman': 1,\n",
       "         'Aaron Paul & Barkhad Abdi': 1,\n",
       "         'Aaron Paul & Helen Mirren': 1,\n",
       "         'Aaron Paul & Iain Glen': 1,\n",
       "         'Alan Rickman & Barkhad Abdi': 1,\n",
       "         'Alan Rickman & Helen Mirren': 1,\n",
       "         'Alan Rickman & Iain Glen': 1,\n",
       "         'Barkhad Abdi & Helen Mirren': 1,\n",
       "         'Barkhad Abdi & Iain Glen': 1,\n",
       "         'Helen Mirren & Iain Glen': 1,\n",
       "         'Christopher Eccleston & David Thewlis': 1,\n",
       "         'Christopher Eccleston & Emily Browning': 1,\n",
       "         'Christopher Eccleston & Taron Egerton': 1,\n",
       "         'Christopher Eccleston & Tom Hardy': 1,\n",
       "         'David Thewlis & Emily Browning': 1,\n",
       "         'David Thewlis & Taron Egerton': 1,\n",
       "         'David Thewlis & Tom Hardy': 1,\n",
       "         'Emily Browning & Taron Egerton': 1,\n",
       "         'Emily Browning & Tom Hardy': 1,\n",
       "         'Taron Egerton & Tom Hardy': 1,\n",
       "         'Amanda Seyfried & Garrett Hedlund': 1,\n",
       "         'Amanda Seyfried & Hugh Jackman': 2,\n",
       "         'Amanda Seyfried & Levi Miller': 1,\n",
       "         'Amanda Seyfried & Rooney Mara': 1,\n",
       "         'Garrett Hedlund & Hugh Jackman': 1,\n",
       "         'Garrett Hedlund & Levi Miller': 1,\n",
       "         'Garrett Hedlund & Rooney Mara': 1,\n",
       "         'Hugh Jackman & Levi Miller': 1,\n",
       "         'Hugh Jackman & Rooney Mara': 1,\n",
       "         'Levi Miller & Rooney Mara': 1,\n",
       "         'Bill Melendez & Hadley Belle Miller': 1,\n",
       "         'Bill Melendez & Madisyn Shipman': 1,\n",
       "         'Bill Melendez & Noah Schnapp': 1,\n",
       "         'Bill Melendez & Venus Schultheis': 1,\n",
       "         'Hadley Belle Miller & Madisyn Shipman': 1,\n",
       "         'Hadley Belle Miller & Noah Schnapp': 1,\n",
       "         'Hadley Belle Miller & Venus Schultheis': 1,\n",
       "         'Madisyn Shipman & Noah Schnapp': 1,\n",
       "         'Madisyn Shipman & Venus Schultheis': 1,\n",
       "         'Noah Schnapp & Venus Schultheis': 1,\n",
       "         'Alec Baldwin & Bitsie Tulloch': 1,\n",
       "         'Alec Baldwin & Gugu Mbatha-Raw': 1,\n",
       "         'Alec Baldwin & Matthew Willig': 1,\n",
       "         'Alec Baldwin & Will Smith': 1,\n",
       "         'Bitsie Tulloch & Gugu Mbatha-Raw': 1,\n",
       "         'Bitsie Tulloch & Matthew Willig': 1,\n",
       "         'Bitsie Tulloch & Will Smith': 1,\n",
       "         'Gugu Mbatha-Raw & Matthew Willig': 1,\n",
       "         'Gugu Mbatha-Raw & Will Smith': 1,\n",
       "         'Matthew Willig & Will Smith': 1,\n",
       "         'Anthony Mackie & Jillian Bell': 1,\n",
       "         'Anthony Mackie & Joseph Gordon-Levitt': 1,\n",
       "         'Anthony Mackie & Lizzy Caplan': 1,\n",
       "         'Anthony Mackie & Seth Rogen': 1,\n",
       "         'Jillian Bell & Joseph Gordon-Levitt': 1,\n",
       "         'Jillian Bell & Lizzy Caplan': 1,\n",
       "         'Jillian Bell & Seth Rogen': 1,\n",
       "         'Joseph Gordon-Levitt & Lizzy Caplan': 1,\n",
       "         'Joseph Gordon-Levitt & Seth Rogen': 2,\n",
       "         'Lizzy Caplan & Seth Rogen': 2,\n",
       "         'Britt Robertson & Jack Huston': 1,\n",
       "         'Britt Robertson & Lolita Davidovich': 1,\n",
       "         'Britt Robertson & Melissa Benoist': 1,\n",
       "         'Britt Robertson & Scott Eastwood': 1,\n",
       "         'Jack Huston & Lolita Davidovich': 1,\n",
       "         'Jack Huston & Melissa Benoist': 1,\n",
       "         'Jack Huston & Scott Eastwood': 1,\n",
       "         'Lolita Davidovich & Melissa Benoist': 1,\n",
       "         'Lolita Davidovich & Scott Eastwood': 1,\n",
       "         'Melissa Benoist & Scott Eastwood': 1,\n",
       "         'Adam Sandler & Andy Samberg': 2,\n",
       "         'Adam Sandler & Selena Gomez': 2,\n",
       "         'Adam Sandler & Steve Buscemi': 3,\n",
       "         'Andy Samberg & Kevin James': 1,\n",
       "         'Andy Samberg & Selena Gomez': 1,\n",
       "         'Andy Samberg & Steve Buscemi': 1,\n",
       "         'Kevin James & Selena Gomez': 2,\n",
       "         'Kevin James & Steve Buscemi': 2,\n",
       "         'Selena Gomez & Steve Buscemi': 2,\n",
       "         'Alan Arkin & Diane Keaton': 1,\n",
       "         'Alan Arkin & John Goodman': 2,\n",
       "         'Alan Arkin & Olivia Wilde': 1,\n",
       "         'Alan Arkin & Steve Martin': 1,\n",
       "         'Diane Keaton & John Goodman': 1,\n",
       "         'Diane Keaton & Olivia Wilde': 1,\n",
       "         'Diane Keaton & Steve Martin': 1,\n",
       "         'John Goodman & Olivia Wilde': 1,\n",
       "         'John Goodman & Steve Martin': 1,\n",
       "         'Olivia Wilde & Steve Martin': 1,\n",
       "         'Ben Kingsley & Ben Schwartz': 1,\n",
       "         'Ben Kingsley & Charlotte Le Bon': 1,\n",
       "         'Ben Kingsley & James Badge Dale': 1,\n",
       "         'Ben Kingsley & Joseph Gordon-Levitt': 1,\n",
       "         'Ben Schwartz & Charlotte Le Bon': 1,\n",
       "         'Ben Schwartz & James Badge Dale': 1,\n",
       "         'Ben Schwartz & Joseph Gordon-Levitt': 1,\n",
       "         'Charlotte Le Bon & James Badge Dale': 1,\n",
       "         'Charlotte Le Bon & Joseph Gordon-Levitt': 1,\n",
       "         'James Badge Dale & Joseph Gordon-Levitt': 1,\n",
       "         'Chris Hemsworth & Christina Applegate': 1,\n",
       "         'Chris Hemsworth & Ed Helms': 1,\n",
       "         'Chris Hemsworth & Skyler Gisondo': 1,\n",
       "         'Chris Hemsworth & Steele Stebbins': 1,\n",
       "         'Christina Applegate & Ed Helms': 1,\n",
       "         'Christina Applegate & Skyler Gisondo': 1,\n",
       "         'Christina Applegate & Steele Stebbins': 1,\n",
       "         'Ed Helms & Skyler Gisondo': 1,\n",
       "         'Ed Helms & Steele Stebbins': 1,\n",
       "         'Skyler Gisondo & Steele Stebbins': 1,\n",
       "         'Kennedi Clements & Kyle Catlett': 1,\n",
       "         'Kennedi Clements & Rosemarie DeWitt': 1,\n",
       "         'Kennedi Clements & Sam Rockwell': 1,\n",
       "         'Kennedi Clements & Saxon Sharbino': 1,\n",
       "         'Kyle Catlett & Rosemarie DeWitt': 1,\n",
       "         'Kyle Catlett & Sam Rockwell': 1,\n",
       "         'Kyle Catlett & Saxon Sharbino': 1,\n",
       "         'Rosemarie DeWitt & Sam Rockwell': 1,\n",
       "         'Rosemarie DeWitt & Saxon Sharbino': 1,\n",
       "         'Sam Rockwell & Saxon Sharbino': 1,\n",
       "         'Gary Oldman & Joel Kinnaman': 2,\n",
       "         'Gary Oldman & Noomi Rapace': 1,\n",
       "         'Gary Oldman & Paddy Considine': 1,\n",
       "         'Gary Oldman & Tom Hardy': 2,\n",
       "         'Joel Kinnaman & Noomi Rapace': 1,\n",
       "         'Joel Kinnaman & Paddy Considine': 1,\n",
       "         'Joel Kinnaman & Tom Hardy': 1,\n",
       "         'Noomi Rapace & Paddy Considine': 1,\n",
       "         'Noomi Rapace & Tom Hardy': 1,\n",
       "         'Paddy Considine & Tom Hardy': 1,\n",
       "         'Beau Knapp & David Denman': 1,\n",
       "         'Beau Knapp & Jason Bateman': 1,\n",
       "         'Beau Knapp & Joel Edgerton': 1,\n",
       "         'Beau Knapp & Rebecca Hall': 1,\n",
       "         'David Denman & Jason Bateman': 1,\n",
       "         'David Denman & Joel Edgerton': 1,\n",
       "         'David Denman & Rebecca Hall': 1,\n",
       "         'Jason Bateman & Joel Edgerton': 1,\n",
       "         'Jason Bateman & Rebecca Hall': 1,\n",
       "         'Joel Edgerton & Rebecca Hall': 1,\n",
       "         'Hannibal Buress & Linda Cardellini': 1,\n",
       "         'Hannibal Buress & Mark Wahlberg': 1,\n",
       "         'Hannibal Buress & Thomas Haden Church': 1,\n",
       "         'Hannibal Buress & Will Ferrell': 1,\n",
       "         'Linda Cardellini & Mark Wahlberg': 1,\n",
       "         'Linda Cardellini & Thomas Haden Church': 1,\n",
       "         'Linda Cardellini & Will Ferrell': 1,\n",
       "         'Mark Wahlberg & Thomas Haden Church': 1,\n",
       "         'Mark Wahlberg & Will Ferrell': 2,\n",
       "         'Thomas Haden Church & Will Ferrell': 1,\n",
       "         'James Franco & Jeff Bridges': 1,\n",
       "         'James Franco & Marion Cotillard': 1,\n",
       "         'James Franco & Paul Rudd': 1,\n",
       "         'James Franco & Rachel McAdams': 1,\n",
       "         'Jeff Bridges & Marion Cotillard': 1,\n",
       "         'Jeff Bridges & Paul Rudd': 1,\n",
       "         'Jeff Bridges & Rachel McAdams': 1,\n",
       "         'Marion Cotillard & Paul Rudd': 1,\n",
       "         'Marion Cotillard & Rachel McAdams': 1,\n",
       "         'Paul Rudd & Rachel McAdams': 1,\n",
       "         'Caroline Goodall & Hayley Magnus': 1,\n",
       "         'Caroline Goodall & Judy Davis': 1,\n",
       "         'Caroline Goodall & Kate Winslet': 1,\n",
       "         'Caroline Goodall & Liam Hemsworth': 1,\n",
       "         'Hayley Magnus & Judy Davis': 1,\n",
       "         'Hayley Magnus & Kate Winslet': 1,\n",
       "         'Hayley Magnus & Liam Hemsworth': 1,\n",
       "         'Judy Davis & Kate Winslet': 1,\n",
       "         'Judy Davis & Liam Hemsworth': 1,\n",
       "         'Kate Winslet & Liam Hemsworth': 1,\n",
       "         'Bella Thorne & Bianca A. Santos': 1,\n",
       "         'Bella Thorne & Mae Whitman': 1,\n",
       "         'Bella Thorne & Robbie Amell': 1,\n",
       "         'Bella Thorne & Skyler Samuels': 1,\n",
       "         'Bianca A. Santos & Mae Whitman': 1,\n",
       "         'Bianca A. Santos & Robbie Amell': 1,\n",
       "         'Bianca A. Santos & Skyler Samuels': 1,\n",
       "         'Mae Whitman & Robbie Amell': 1,\n",
       "         'Mae Whitman & Skyler Samuels': 1,\n",
       "         'Robbie Amell & Skyler Samuels': 1,\n",
       "         'James Ransone & Lucas Jade Zumann': 1,\n",
       "         'James Ransone & Nicholas King': 1,\n",
       "         'James Ransone & Shannyn Sossamon': 1,\n",
       "         'James Ransone & Tate Ellington': 1,\n",
       "         'Lucas Jade Zumann & Nicholas King': 1,\n",
       "         'Lucas Jade Zumann & Shannyn Sossamon': 1,\n",
       "         'Lucas Jade Zumann & Tate Ellington': 1,\n",
       "         'Nicholas King & Shannyn Sossamon': 1,\n",
       "         'Nicholas King & Tate Ellington': 1,\n",
       "         'Shannyn Sossamon & Tate Ellington': 1,\n",
       "         'Daniella Alonso & Eduardo VerÃ¡stegui': 1,\n",
       "         'Daniella Alonso & Kevin James': 1,\n",
       "         'Daniella Alonso & Neal McDonough': 1,\n",
       "         'Daniella Alonso & Raini Rodriguez': 1,\n",
       "         'Eduardo VerÃ¡stegui & Kevin James': 1,\n",
       "         'Eduardo VerÃ¡stegui & Neal McDonough': 1,\n",
       "         'Eduardo VerÃ¡stegui & Raini Rodriguez': 1,\n",
       "         'Kevin James & Neal McDonough': 1,\n",
       "         'Kevin James & Raini Rodriguez': 2,\n",
       "         'Neal McDonough & Raini Rodriguez': 1,\n",
       "         'Adrian Grenier & Jeremy Piven': 1,\n",
       "         'Adrian Grenier & Jerry Ferrara': 1,\n",
       "         'Adrian Grenier & Kevin Connolly': 1,\n",
       "         'Adrian Grenier & Kevin Dillon': 1,\n",
       "         'Jeremy Piven & Jerry Ferrara': 1,\n",
       "         'Jeremy Piven & Kevin Connolly': 1,\n",
       "         'Jeremy Piven & Kevin Dillon': 1,\n",
       "         'Jerry Ferrara & Kevin Connolly': 1,\n",
       "         'Jerry Ferrara & Kevin Dillon': 1,\n",
       "         'Kevin Connolly & Kevin Dillon': 1,\n",
       "         'Affion Crockett & Jorge Garcia': 1,\n",
       "         'Affion Crockett & Josh Gad': 1,\n",
       "         'Affion Crockett & Kaley Cuoco': 1,\n",
       "         'Affion Crockett & Kevin Hart': 1,\n",
       "         'Jorge Garcia & Josh Gad': 1,\n",
       "         'Jorge Garcia & Kaley Cuoco': 1,\n",
       "         'Jorge Garcia & Kevin Hart': 1,\n",
       "         'Josh Gad & Kaley Cuoco': 1,\n",
       "         'Josh Gad & Kevin Hart': 1,\n",
       "         'Kaley Cuoco & Kevin Hart': 1,\n",
       "         'Benjamin Kanes & Deanna Dunagan': 1,\n",
       "         'Benjamin Kanes & Ed Oxenbould': 1,\n",
       "         'Benjamin Kanes & Kathryn Hahn': 1,\n",
       "         'Benjamin Kanes & Olivia DeJonge': 1,\n",
       "         'Deanna Dunagan & Ed Oxenbould': 1,\n",
       "         'Deanna Dunagan & Kathryn Hahn': 1,\n",
       "         'Deanna Dunagan & Olivia DeJonge': 1,\n",
       "         'Ed Oxenbould & Kathryn Hahn': 1,\n",
       "         'Ed Oxenbould & Olivia DeJonge': 1,\n",
       "         'Kathryn Hahn & Olivia DeJonge': 1,\n",
       "         'Benedict Cumberbatch & Dakota Johnson': 1,\n",
       "         'Benedict Cumberbatch & Joel Edgerton': 1,\n",
       "         'Benedict Cumberbatch & Johnny Depp': 1,\n",
       "         'Benedict Cumberbatch & Kevin Bacon': 1,\n",
       "         'Dakota Johnson & Joel Edgerton': 1,\n",
       "         'Dakota Johnson & Johnny Depp': 1,\n",
       "         'Dakota Johnson & Kevin Bacon': 1,\n",
       "         'Joel Edgerton & Johnny Depp': 1,\n",
       "         'Joel Edgerton & Kevin Bacon': 1,\n",
       "         'Johnny Depp & Kevin Bacon': 1,\n",
       "         'Adam Scott & Allison Tolman': 1,\n",
       "         'Adam Scott & David Koechner': 1,\n",
       "         'Adam Scott & Emjay Anthony': 1,\n",
       "         'Adam Scott & Toni Collette': 1,\n",
       "         'Allison Tolman & David Koechner': 1,\n",
       "         'Allison Tolman & Emjay Anthony': 1,\n",
       "         'Allison Tolman & Toni Collette': 1,\n",
       "         'David Koechner & Emjay Anthony': 1,\n",
       "         'David Koechner & Toni Collette': 1,\n",
       "         'Emjay Anthony & Toni Collette': 1,\n",
       "         'Lake Bell & Owen Wilson': 1,\n",
       "         'Lake Bell & Pierce Brosnan': 1,\n",
       "         'Lake Bell & Spencer Garrett': 1,\n",
       "         'Lake Bell & Sterling Jerins': 1,\n",
       "         'Owen Wilson & Pierce Brosnan': 1,\n",
       "         'Owen Wilson & Spencer Garrett': 1,\n",
       "         'Owen Wilson & Sterling Jerins': 1,\n",
       "         'Pierce Brosnan & Spencer Garrett': 1,\n",
       "         'Pierce Brosnan & Sterling Jerins': 1,\n",
       "         'Spencer Garrett & Sterling Jerins': 1,\n",
       "         'Helen Mirren & Katie Holmes': 1,\n",
       "         'Helen Mirren & Max Irons': 1,\n",
       "         'Helen Mirren & Ryan Reynolds': 1,\n",
       "         'Helen Mirren & Tatiana Maslany': 1,\n",
       "         'Katie Holmes & Max Irons': 1,\n",
       "         'Katie Holmes & Ryan Reynolds': 1,\n",
       "         'Katie Holmes & Tatiana Maslany': 1,\n",
       "         'Max Irons & Ryan Reynolds': 1,\n",
       "         'Max Irons & Tatiana Maslany': 1,\n",
       "         'Ryan Reynolds & Tatiana Maslany': 1,\n",
       "         'Amy Poehler & Ike Barinholtz': 1,\n",
       "         'Amy Poehler & John Leguizamo': 1,\n",
       "         'Amy Poehler & Maya Rudolph': 1,\n",
       "         'Amy Poehler & Tina Fey': 2,\n",
       "         'Ike Barinholtz & John Leguizamo': 1,\n",
       "         'Ike Barinholtz & Maya Rudolph': 1,\n",
       "         'Ike Barinholtz & Tina Fey': 1,\n",
       "         'John Leguizamo & Maya Rudolph': 1,\n",
       "         'John Leguizamo & Tina Fey': 1,\n",
       "         'Maya Rudolph & Tina Fey': 1,\n",
       "         'Allen Evangelista & Jonny Weston': 1,\n",
       "         'Allen Evangelista & Sam Lerner': 1,\n",
       "         \"Allen Evangelista & Sofia Black-D'Elia\": 1,\n",
       "         'Allen Evangelista & Virginia Gardner': 1,\n",
       "         'Jonny Weston & Sam Lerner': 1,\n",
       "         \"Jonny Weston & Sofia Black-D'Elia\": 1,\n",
       "         'Jonny Weston & Virginia Gardner': 1,\n",
       "         \"Sam Lerner & Sofia Black-D'Elia\": 1,\n",
       "         'Sam Lerner & Virginia Gardner': 1,\n",
       "         \"Sofia Black-D'Elia & Virginia Gardner\": 1,\n",
       "         'Ed Skrein & Gabriella Wright': 1,\n",
       "         'Ed Skrein & Loan Chabanol': 1,\n",
       "         'Ed Skrein & Ray Stevenson': 1,\n",
       "         'Ed Skrein & Tatjana PajkoviÄ‡': 1,\n",
       "         'Gabriella Wright & Loan Chabanol': 1,\n",
       "         'Gabriella Wright & Ray Stevenson': 1,\n",
       "         'Gabriella Wright & Tatjana PajkoviÄ‡': 1,\n",
       "         'Loan Chabanol & Ray Stevenson': 1,\n",
       "         'Loan Chabanol & Tatjana PajkoviÄ‡': 1,\n",
       "         'Ray Stevenson & Tatjana PajkoviÄ‡': 1,\n",
       "         'Charlie Hunnam & Jessica Chastain': 1,\n",
       "         'Charlie Hunnam & Jim Beaver': 1,\n",
       "         'Charlie Hunnam & Mia Wasikowska': 1,\n",
       "         'Charlie Hunnam & Tom Hiddleston': 1,\n",
       "         'Jessica Chastain & Jim Beaver': 1,\n",
       "         'Jessica Chastain & Mia Wasikowska': 2,\n",
       "         'Jessica Chastain & Tom Hiddleston': 1,\n",
       "         'Jim Beaver & Mia Wasikowska': 1,\n",
       "         'Jim Beaver & Tom Hiddleston': 1,\n",
       "         'Mia Wasikowska & Tom Hiddleston': 1,\n",
       "         'Adam RodrÃ\\xadguez & Channing Tatum': 1,\n",
       "         'Adam RodrÃ\\xadguez & Joe Manganiello': 1,\n",
       "         'Adam RodrÃ\\xadguez & Kevin Nash': 1,\n",
       "         'Adam RodrÃ\\xadguez & Matt Bomer': 1,\n",
       "         'Channing Tatum & Joe Manganiello': 1,\n",
       "         'Channing Tatum & Kevin Nash': 1,\n",
       "         'Channing Tatum & Matt Bomer': 1,\n",
       "         'Joe Manganiello & Kevin Nash': 1,\n",
       "         'Joe Manganiello & Matt Bomer': 1,\n",
       "         'Kevin Nash & Matt Bomer': 1,\n",
       "         'Brit Shaw & Chris J. Murray': 1,\n",
       "         'Brit Shaw & Ivy George': 1,\n",
       "         'Brit Shaw & Lauren Frandsen': 1,\n",
       "         'Brit Shaw & Tyler Craig': 1,\n",
       "         'Chris J. Murray & Ivy George': 1,\n",
       "         'Chris J. Murray & Lauren Frandsen': 1,\n",
       "         'Chris J. Murray & Tyler Craig': 1,\n",
       "         'Ivy George & Lauren Frandsen': 1,\n",
       "         'Ivy George & Tyler Craig': 1,\n",
       "         'Lauren Frandsen & Tyler Craig': 1,\n",
       "         'Bryan Cranston & Diane Lane': 1,\n",
       "         'Bryan Cranston & Elle Fanning': 1,\n",
       "         'Bryan Cranston & Helen Mirren': 1,\n",
       "         'Bryan Cranston & Louis C.K.': 1,\n",
       "         'Diane Lane & Elle Fanning': 1,\n",
       "         'Diane Lane & Helen Mirren': 1,\n",
       "         'Diane Lane & Louis C.K.': 1,\n",
       "         'Elle Fanning & Helen Mirren': 1,\n",
       "         'Elle Fanning & Louis C.K.': 1,\n",
       "         'Helen Mirren & Louis C.K.': 1,\n",
       "         'Chiwetel Ejiofor & Dean Norris': 1,\n",
       "         'Chiwetel Ejiofor & Julia Roberts': 1,\n",
       "         'Chiwetel Ejiofor & Lyndon Smith': 1,\n",
       "         'Chiwetel Ejiofor & Nicole Kidman': 1,\n",
       "         'Dean Norris & Julia Roberts': 1,\n",
       "         'Dean Norris & Lyndon Smith': 1,\n",
       "         'Dean Norris & Nicole Kidman': 1,\n",
       "         'Julia Roberts & Lyndon Smith': 1,\n",
       "         'Julia Roberts & Nicole Kidman': 1,\n",
       "         'Lyndon Smith & Nicole Kidman': 1,\n",
       "         'Bill Fagerbakke & Carolyn Lawrence': 2,\n",
       "         'Bill Fagerbakke & Clancy Brown': 2,\n",
       "         'Bill Fagerbakke & Rodger Bumpass': 2,\n",
       "         'Bill Fagerbakke & Tom Kenny': 2,\n",
       "         'Carolyn Lawrence & Clancy Brown': 2,\n",
       "         'Carolyn Lawrence & Rodger Bumpass': 2,\n",
       "         'Carolyn Lawrence & Tom Kenny': 2,\n",
       "         'Clancy Brown & Rodger Bumpass': 2,\n",
       "         'Clancy Brown & Tom Kenny': 2,\n",
       "         'Rodger Bumpass & Tom Kenny': 2,\n",
       "         'Josh Wiggins & Lauren Graham': 1,\n",
       "         'Josh Wiggins & Mia Xitlali': 1,\n",
       "         'Josh Wiggins & Robbie Amell': 1,\n",
       "         'Josh Wiggins & Thomas Haden Church': 1,\n",
       "         'Lauren Graham & Mia Xitlali': 1,\n",
       "         'Lauren Graham & Robbie Amell': 1,\n",
       "         'Lauren Graham & Thomas Haden Church': 1,\n",
       "         'Mia Xitlali & Robbie Amell': 1,\n",
       "         'Mia Xitlali & Thomas Haden Church': 1,\n",
       "         'Robbie Amell & Thomas Haden Church': 1,\n",
       "         'Jasmine Trinca & Javier Bardem': 1,\n",
       "         'Jasmine Trinca & Mark Rylance': 1,\n",
       "         'Jasmine Trinca & Ray Winstone': 1,\n",
       "         'Jasmine Trinca & Sean Penn': 1,\n",
       "         'Javier Bardem & Mark Rylance': 1,\n",
       "         'Javier Bardem & Ray Winstone': 1,\n",
       "         'Javier Bardem & Sean Penn': 1,\n",
       "         'Mark Rylance & Ray Winstone': 1,\n",
       "         'Mark Rylance & Sean Penn': 1,\n",
       "         'Ray Winstone & Sean Penn': 1,\n",
       "         'John Carroll Lynch & Michael Mosley': 1,\n",
       "         ...})"
      ]
     },
     "execution_count": 139,
     "metadata": {},
     "output_type": "execute_result"
    }
   ],
   "source": [
    "# Найдем кол-во повторений пар в списке. Результат словарь: ключ - пара, значение - кол-во повторов. \n",
    "pair_count = Counter(pair_actors)\n",
    "pair_count"
   ]
  },
  {
   "cell_type": "code",
   "execution_count": 140,
   "metadata": {},
   "outputs": [
    {
     "data": {
      "text/plain": [
       "8"
      ]
     },
     "execution_count": 140,
     "metadata": {},
     "output_type": "execute_result"
    }
   ],
   "source": [
    "# Найдем максимальное кол-во появления пар.\n",
    "max_val = max(pair_count.values())\n",
    "max_val"
   ]
  },
  {
   "cell_type": "code",
   "execution_count": 141,
   "metadata": {},
   "outputs": [
    {
     "data": {
      "text/plain": [
       "{'Daniel Radcliffe & Emma Watson': 8,\n",
       " 'Daniel Radcliffe & Rupert Grint': 8,\n",
       " 'Emma Watson & Rupert Grint': 8}"
      ]
     },
     "execution_count": 141,
     "metadata": {},
     "output_type": "execute_result"
    }
   ],
   "source": [
    "max_pair = {k:v for k, v in pair_count.items() if v == max_val}\n",
    "max_pair\n"
   ]
  },
  {
   "cell_type": "code",
   "execution_count": 142,
   "metadata": {},
   "outputs": [
    {
     "data": {
      "text/plain": [
       "['Daniel Radcliffe & Emma Watson',\n",
       " 'Daniel Radcliffe & Rupert Grint',\n",
       " 'Emma Watson & Rupert Grint']"
      ]
     },
     "execution_count": 142,
     "metadata": {},
     "output_type": "execute_result"
    }
   ],
   "source": [
    "my_answer_27 = [x for x in max_pair.keys()]\n",
    "my_answer_27"
   ]
  },
  {
   "cell_type": "code",
   "execution_count": 143,
   "metadata": {},
   "outputs": [
    {
     "data": {
      "text/plain": [
       "'5. Daniel Radcliffe & Rupert Grint'"
      ]
     },
     "execution_count": 143,
     "metadata": {},
     "output_type": "execute_result"
    }
   ],
   "source": [
    "answer_to(answers, str(task_number), option_search(answer_options_27, my_answer_27))\n",
    "answers[str(task_number)]"
   ]
  },
  {
   "cell_type": "markdown",
   "metadata": {
    "colab_type": "text",
    "id": "4ymnxEVoVqAW"
   },
   "source": [
    "ВАРИАНТ 2"
   ]
  },
  {
   "cell_type": "code",
   "execution_count": 144,
   "metadata": {},
   "outputs": [
    {
     "data": {
      "text/plain": [
       "8"
      ]
     },
     "execution_count": 144,
     "metadata": {},
     "output_type": "execute_result"
    }
   ],
   "source": [
    "# Альтернативный вариант решения реализуем через Series и value_counts().\n",
    "pair_actors_series = pd.Series(pair_actors)\n",
    "pair_actors_series.value_counts().max()"
   ]
  },
  {
   "cell_type": "code",
   "execution_count": 145,
   "metadata": {},
   "outputs": [
    {
     "data": {
      "text/plain": [
       "['Daniel Radcliffe & Emma Watson',\n",
       " 'Daniel Radcliffe & Rupert Grint',\n",
       " 'Emma Watson & Rupert Grint']"
      ]
     },
     "execution_count": 145,
     "metadata": {},
     "output_type": "execute_result"
    }
   ],
   "source": [
    "s = (pair_actors_series.value_counts() == pair_actors_series.value_counts().max())\n",
    "s.loc[s].index.to_list()"
   ]
  },
  {
   "cell_type": "markdown",
   "metadata": {
    "colab_type": "text",
    "id": "U0nONFnGVqAX"
   },
   "source": [
    "# Submission"
   ]
  },
  {
   "cell_type": "code",
   "execution_count": 146,
   "metadata": {
    "colab": {},
    "colab_type": "code",
    "id": "IfcaRO9-VqAX",
    "outputId": "0f132912-32bb-4196-c98c-abfbc4ad5a5f"
   },
   "outputs": [
    {
     "data": {
      "text/plain": [
       "{'1': '5. Pirates of the Caribbean: On Stranger Tides (tt1298650)',\n",
       " '2': '2. Gods and Generals (tt0279111)',\n",
       " '3': '3. Winnie the Pooh (tt1449283)',\n",
       " '4': '2. 110',\n",
       " '5': '1. 107',\n",
       " '6': '5. Avatar (tt0499549)',\n",
       " '7': '5. The Lone Ranger (tt1210819)',\n",
       " '8': '1. 1478',\n",
       " '9': '4. The Dark Knight (tt0468569)',\n",
       " '10': '5. The Lone Ranger (tt1210819)',\n",
       " '11': '3. Drama',\n",
       " '12': '1. Drama',\n",
       " '13': '5. Peter Jackson',\n",
       " '14': '3. Robert Rodriguez',\n",
       " '15': '3. Chris Hemsworth',\n",
       " '16': '3. Matt Damon',\n",
       " '17': '2. Action',\n",
       " '18': '1. K-19: The Widowmaker (tt0267626)',\n",
       " '19': '5. 2015',\n",
       " '20': '1. 2014',\n",
       " '21': '4. Сентябрь',\n",
       " '22': '2. 450',\n",
       " '23': '5. Peter Jackson',\n",
       " '24': '5. Four By Two Productions',\n",
       " '25': '3. Midnight Picture Show',\n",
       " '26': '1. Inside Out, The Dark Knight, 12 Years a Slave',\n",
       " '27': '5. Daniel Radcliffe & Rupert Grint'}"
      ]
     },
     "execution_count": 146,
     "metadata": {},
     "output_type": "execute_result"
    }
   ],
   "source": [
    "# Ответы к каждому вопросу\n",
    "answers"
   ]
  },
  {
   "cell_type": "code",
   "execution_count": 147,
   "metadata": {
    "colab": {},
    "colab_type": "code",
    "id": "SiRmHPl8VqAd"
   },
   "outputs": [
    {
     "data": {
      "text/plain": [
       "27"
      ]
     },
     "execution_count": 147,
     "metadata": {},
     "output_type": "execute_result"
    }
   ],
   "source": [
    "# и убедиться что ни чего не пропустил)\n",
    "len(answers)"
   ]
  },
  {
   "cell_type": "code",
   "execution_count": null,
   "metadata": {},
   "outputs": [],
   "source": []
  }
 ],
 "metadata": {
  "colab": {
   "name": "Copy of [SF-DST] Movies IMBD v4.1 TEMPLATE.ipynb",
   "provenance": []
  },
  "kernelspec": {
   "display_name": "Python 3",
   "language": "python",
   "name": "python3"
  },
  "language_info": {
   "codemirror_mode": {
    "name": "ipython",
    "version": 3
   },
   "file_extension": ".py",
   "mimetype": "text/x-python",
   "name": "python",
   "nbconvert_exporter": "python",
   "pygments_lexer": "ipython3",
   "version": "3.7.4"
  }
 },
 "nbformat": 4,
 "nbformat_minor": 1
}
