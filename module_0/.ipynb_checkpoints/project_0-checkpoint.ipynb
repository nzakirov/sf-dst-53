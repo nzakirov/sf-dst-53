{
 "cells": [
  {
   "cell_type": "markdown",
   "metadata": {},
   "source": [
    "**Проект 0. GitHub. Самый быстрый старт**  \n",
    "*выполнил: Закиров Наиль (DST-53)*  \n",
    "*2021-01-29*\n"
   ]
  },
  {
   "cell_type": "code",
   "execution_count": 2,
   "metadata": {},
   "outputs": [
    {
     "name": "stdout",
     "output_type": "stream",
     "text": [
      "Загадано число от 1 до 100\n",
      "Ваше предположение: 50\n",
      "Угадываемое число меньше 50 \n",
      "Ваше предположение: 25\n",
      "Угадываемое число больше 25 \n",
      "Ваше предположение: 37\n",
      "Угадываемое число меньше 37 \n",
      "Ваше предположение: 31\n",
      "Угадываемое число больше 31 \n",
      "Ваше предположение: 34\n",
      "Угадываемое число меньше 34 \n",
      "Ваше предположение: 32\n",
      "Угадываемое число больше 32 \n",
      "Ваше предположение: 33\n",
      "Вы угадали число 33 за 7 попыток.\n"
     ]
    }
   ],
   "source": [
    "import numpy as np\n",
    "\n",
    "count = 0                           # счетчик попыток\n",
    "number = np.random.randint(1,101)   # загадали число\n",
    "print (\"Загадано число от 1 до 100\")\n",
    "\n",
    "while True:                        # бесконечный цикл\n",
    "    predict = int(input(\"Ваше предположение: \"))         # предполагаемое число\n",
    "    count += 1                     # плюсуем попытку\n",
    "    if number == predict: break    # выход из цикла, если угадали\n",
    "    elif number > predict: print (f\"Угадываемое число больше {predict} \")\n",
    "    elif number < predict: print (f\"Угадываемое число меньше {predict} \")\n",
    "            \n",
    "print (f\"Вы угадали число {number} за {count} попыток.\")    \n"
   ]
  },
  {
   "cell_type": "code",
   "execution_count": 7,
   "metadata": {},
   "outputs": [],
   "source": [
    "def game_core_v3(number):\n",
    "    \n",
    "    '''Угадывание выполняем при помощи бинарного поиска, т.е. при каждой итерации делим диапазон чисел пополам, \n",
    "       каждый раз выбирая диапазон, в котором находится искомое число.\n",
    "       Функция принимает заданное число и возвращает число попыток'''\n",
    "    \n",
    "    number = np.random.randint(1, 101)   # загадали число\n",
    "    \n",
    "    count = 0\n",
    "    half = 0 # число середина диапазона чисел\n",
    "    begin_range = 1 # нижняя граница диапазона чисел\n",
    "    end_range = 101 # верхняя граница диапазона чисел\n",
    "\n",
    "    while number != half:\n",
    "        count += 1\n",
    "        half = (end_range - begin_range) // 2 + begin_range\n",
    "        if number > half:\n",
    "            begin_range = half\n",
    "        elif number < half:\n",
    "            end_range = half\n",
    "        elif number == half:\n",
    "            break # выход из цикла если угадали\n",
    "\n",
    "    return(count)\n",
    "\n",
    "\n",
    "def score_game(game_core):\n",
    "    \n",
    "    '''Запускаем игру 1000 раз, чтобы узнать, как быстро игра угадывает число'''\n",
    "    \n",
    "    count_ls = []\n",
    "    np.random.seed(1)  # фиксируем RANDOM SEED, чтобы ваш эксперимент был воспроизводим!\n",
    "    random_array = np.random.randint(1,101, size=(1000))\n",
    "    \n",
    "    for number in random_array:\n",
    "        count_ls.append(game_core(number))\n",
    "    \n",
    "    score = int(np.mean(count_ls))\n",
    "    print(f\"Ваш алгоритм угадывает число в среднем за {score} попыток\")\n",
    "    return(score)\n",
    "\n"
   ]
  },
  {
   "cell_type": "code",
   "execution_count": 8,
   "metadata": {},
   "outputs": [
    {
     "name": "stdout",
     "output_type": "stream",
     "text": [
      "Ваш алгоритм угадывает число в среднем за 5 попыток\n"
     ]
    },
    {
     "data": {
      "text/plain": [
       "5"
      ]
     },
     "execution_count": 8,
     "metadata": {},
     "output_type": "execute_result"
    }
   ],
   "source": [
    "score_game(game_core_v3)"
   ]
  },
  {
   "cell_type": "code",
   "execution_count": null,
   "metadata": {},
   "outputs": [],
   "source": []
  }
 ],
 "metadata": {
  "kernelspec": {
   "display_name": "Python 3",
   "language": "python",
   "name": "python3"
  },
  "language_info": {
   "codemirror_mode": {
    "name": "ipython",
    "version": 3
   },
   "file_extension": ".py",
   "mimetype": "text/x-python",
   "name": "python",
   "nbconvert_exporter": "python",
   "pygments_lexer": "ipython3",
   "version": "3.8.5"
  }
 },
 "nbformat": 4,
 "nbformat_minor": 4
}
